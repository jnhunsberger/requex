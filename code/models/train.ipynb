{
 "cells": [
  {
   "cell_type": "markdown",
   "metadata": {},
   "source": [
    "# Exploration of Merging Data Files\n",
    "\n",
    "This notebook was built to explore how to best merge the Cisco Umbrella 1m Domains file and the Bambenek Consulting DGA High-Confidence Feed."
   ]
  },
  {
   "cell_type": "code",
   "execution_count": 30,
   "metadata": {},
   "outputs": [],
   "source": [
    "# Libraries\n",
    "import zipfile\n",
    "import numpy as np\n",
    "import pandas as pd\n",
    "import re\n",
    "import os\n",
    "import time\n",
    "import sys\n",
    "import lstm_binary\n",
    "import imp\n",
    "from sklearn.model_selection import train_test_split"
   ]
  },
  {
   "cell_type": "code",
   "execution_count": 76,
   "metadata": {},
   "outputs": [],
   "source": [
    "PROJECT_ROOT = \"./\"\n",
    "BINARY_TOKENIZER_FILE = PROJECT_ROOT + \"saved_models/large_data/binary_tokenizer.pkl\"\n",
    "BINARY_CATEGORIES_FILE = PROJECT_ROOT + \"saved_models/large_data/binary_categories.pkl\"\n",
    "BINARY_MODEL_JSON = PROJECT_ROOT + \"saved_models/large_data/binary_LSTM.json\"\n",
    "BINARY_MODEL_H5 = PROJECT_ROOT + \"saved_models/large_data/binary_LSTM.h5\""
   ]
  },
  {
   "cell_type": "code",
   "execution_count": 58,
   "metadata": {},
   "outputs": [],
   "source": [
    "dtype_dic= {'domain': str, \n",
    "            'dga' : int}\n",
    "merged_csv = '/home/nscsekhar/1214/team_cyber/data/merged-2018-12-15_2month.csv'\n",
    "df = pd.read_csv(merged_csv, dtype = dtype_dic)"
   ]
  },
  {
   "cell_type": "code",
   "execution_count": 59,
   "metadata": {},
   "outputs": [],
   "source": [
    "X = df['domain'].astype(str)\n",
    "Y = df['dga']"
   ]
  },
  {
   "cell_type": "code",
   "execution_count": 60,
   "metadata": {},
   "outputs": [],
   "source": [
    "X_train, X_test, Y_train, Y_test = train_test_split(X, Y, test_size=0.2,random_state=23)"
   ]
  },
  {
   "cell_type": "code",
   "execution_count": 61,
   "metadata": {},
   "outputs": [
    {
     "name": "stdout",
     "output_type": "stream",
     "text": [
      "Epoch 1/5\n",
      "3149378/3149378 [==============================] - 389s 123us/step - loss: 0.2293\n",
      "Epoch 2/5\n",
      "3149378/3149378 [==============================] - 388s 123us/step - loss: 0.0872\n",
      "Epoch 3/5\n",
      "3149378/3149378 [==============================] - 388s 123us/step - loss: 0.1256\n",
      "Epoch 4/5\n",
      "3149378/3149378 [==============================] - 388s 123us/step - loss: 0.0650\n",
      "Epoch 5/5\n",
      "3149378/3149378 [==============================] - 388s 123us/step - loss: 0.0555\n"
     ]
    }
   ],
   "source": [
    "imp.reload(lstm_binary)\n",
    "train_model = lstm_binary.LSTMBinary()\n",
    "train_model.train(X_train, Y_train)"
   ]
  },
  {
   "cell_type": "code",
   "execution_count": 77,
   "metadata": {},
   "outputs": [
    {
     "name": "stdout",
     "output_type": "stream",
     "text": [
      "MODEL SAVED TO DISK!\n"
     ]
    }
   ],
   "source": [
    "train_model.save(BINARY_TOKENIZER_FILE, BINARY_MODEL_JSON, BINARY_MODEL_H5)"
   ]
  },
  {
   "cell_type": "code",
   "execution_count": 78,
   "metadata": {},
   "outputs": [
    {
     "name": "stdout",
     "output_type": "stream",
     "text": [
      "SAVED BINARY MODEL IS NOW LOADED!\n"
     ]
    }
   ],
   "source": [
    "testmodel = lstm_binary.LSTMBinary()\n",
    "testmodel.load(BINARY_TOKENIZER_FILE, BINARY_MODEL_JSON, BINARY_MODEL_H5)"
   ]
  },
  {
   "cell_type": "code",
   "execution_count": 79,
   "metadata": {},
   "outputs": [
    {
     "name": "stdout",
     "output_type": "stream",
     "text": [
      "URL type: [[0]\n",
      " [0]\n",
      " [1]]\n"
     ]
    }
   ],
   "source": [
    "imp.reload(lstm_binary)\n",
    "urllist = [\"www.google.com\", \"www.netflix.com\", \"plvklpgwivery.com\"]\n",
    "urltypes = testmodel.predict(urllist)\n",
    "print(\"URL type:\", urltypes)"
   ]
  },
  {
   "cell_type": "code",
   "execution_count": 55,
   "metadata": {},
   "outputs": [
    {
     "data": {
      "text/plain": [
       "323493                                www.courthousenews.com\n",
       "1693266                            brushymountainbeefarm.com\n",
       "2301105                             u3692416.ct.sendgrid.net\n",
       "2619340                         wapvunigs83gag9ohh8li10e.biz\n",
       "3003119                                         fdxgdoqyw.co\n",
       "2805477                             ioisyavelvcfaentjenry.me\n",
       "3479417                                  yoomvrqqnglmmwwv.ru\n",
       "3548027                                 1434141147.localhost\n",
       "3009887                                        kflxwscnpu.ki\n",
       "345398                              download-toolbar.avg.com\n",
       "3440832                                  jpsgysoglwodlfh.biz\n",
       "1447426                     1hwa8721aexmpd1fx0rpd1b0a50h.biz\n",
       "2131023                                 1161506543.localhost\n",
       "60410                ipv4-c199-atl001-ix.1.oca.nflxvideo.net\n",
       "10082                                        media.admob.com\n",
       "3266609                                 uxknoudnjfuinqfd.com\n",
       "3545720                                             ogo7.com\n",
       "2467922                                   hbhrmdccnqnovnx.co\n",
       "1531353                                 centralcollision.com\n",
       "1156554                                     neu23weu11kv.net\n",
       "1364230                                r35nlr3izvevruiq.info\n",
       "3758685                                          www.z57.com\n",
       "129263                 qbdtemailnotifications.api.intuit.com\n",
       "2764370                         m6eedufnr73ilgyuv2t608no.com\n",
       "1271757                                xpqkimnnyqmfzvlq.info\n",
       "2590491                o31eb18296484bd96675d66549cf4f889a.to\n",
       "2397954                     1o7pg0n130rngg1ktje441xxf1xa.net\n",
       "3802773    0p1a0000000togjkao.00da0000000ibskmac.gslb.sit...\n",
       "2462982                                  xhvmzprznpqyiwv.biz\n",
       "3501452       68e55530901a1016b67308685a7cca7e.l2.nessus.org\n",
       "                                 ...                        \n",
       "137569                                            anywho.com\n",
       "878408                    theamazingworldofgumball.wikia.com\n",
       "1534662                                       wikinomina.com\n",
       "2385160                        pargqpyunnqqjujipmdgpcpja.com\n",
       "346790                           sonar.fhel4-1.fna.fbcdn.net\n",
       "1170694                               dwwburtdujpaboywil.com\n",
       "2226149                                    qginqvalooykgt.sh\n",
       "49707                                               ozsn.net\n",
       "1992582                                   lkootqpmmqoiuk.biz\n",
       "2830341                                         sjdefvti.net\n",
       "1032741                       154ml0kdl2h1l9ostar1a10b79.net\n",
       "794240                                      x28.mwmfysqx.com\n",
       "3073950                      16tgxfu1yp1xswsrn97h13o8yxt.net\n",
       "1228840                                   wlfucxcgpspkuo.com\n",
       "2038271                                   streamingpulse.com\n",
       "1939056                              theme.cdn.tclclouds.com\n",
       "2852430                                  ihnnunsyqgitplv.net\n",
       "1289294                              kljwoadudpcqquotjvct.de\n",
       "1020002                je9ee22b712667ee21150fc7342761e680.so\n",
       "601310                                   srv-hp6.netsons.net\n",
       "602699                        external.fcpv4-1.fna.fbcdn.net\n",
       "3173623                                       gsidoriqqn.com\n",
       "736878        csikx068247-eu-fr-ikdc1-z3-basic.ikexpress.com\n",
       "862730                              fhfa3-1.fna.whatsapp.net\n",
       "527619                                   www.tunnelblick.net\n",
       "2489445                       so8y35wkcavw1ezofn21546v1m.com\n",
       "1418329                      1dheigmjrh4io1b1vn6s150w716.org\n",
       "1356913                                         rvcafast.com\n",
       "2615737                                 uvfqepuhnowewkik.com\n",
       "12973                                   onsite.boomtrain.net\n",
       "Name: domain, Length: 787345, dtype: object"
      ]
     },
     "execution_count": 55,
     "metadata": {},
     "output_type": "execute_result"
    }
   ],
   "source": [
    "X_test"
   ]
  },
  {
   "cell_type": "code",
   "execution_count": 65,
   "metadata": {},
   "outputs": [],
   "source": [
    "urltypes = testmodel.predict(X_test)"
   ]
  },
  {
   "cell_type": "code",
   "execution_count": 66,
   "metadata": {},
   "outputs": [
    {
     "name": "stdout",
     "output_type": "stream",
     "text": [
      "(787345, 1)\n"
     ]
    }
   ],
   "source": [
    "print((urltypes.shape))"
   ]
  },
  {
   "cell_type": "code",
   "execution_count": 67,
   "metadata": {},
   "outputs": [
    {
     "name": "stdout",
     "output_type": "stream",
     "text": [
      "1\n"
     ]
    }
   ],
   "source": [
    "print(len(Y_test.values.shape))"
   ]
  },
  {
   "cell_type": "code",
   "execution_count": 21,
   "metadata": {},
   "outputs": [
    {
     "name": "stdout",
     "output_type": "stream",
     "text": [
      "[[1]\n",
      " [0]\n",
      " [0]\n",
      " [0]\n",
      " [1]\n",
      " [0]\n",
      " [1]\n",
      " [0]\n",
      " [1]\n",
      " [1]]\n",
      "[1 0 0 0 1 0 1 0 1 1]\n"
     ]
    }
   ],
   "source": [
    "print(urltypes[:10])\n",
    "print(Y_test.values[:10])"
   ]
  },
  {
   "cell_type": "code",
   "execution_count": 68,
   "metadata": {},
   "outputs": [],
   "source": [
    "corrects = np.count_nonzero(urltypes.flatten() == Y_test.values)"
   ]
  },
  {
   "cell_type": "code",
   "execution_count": 69,
   "metadata": {},
   "outputs": [
    {
     "name": "stdout",
     "output_type": "stream",
     "text": [
      "14721\n"
     ]
    }
   ],
   "source": [
    "incorrects = np.nonzero(urltypes.reshape((-1,)) != Y_test.values)\n",
    "print(len(incorrects[0]))"
   ]
  },
  {
   "cell_type": "code",
   "execution_count": 74,
   "metadata": {},
   "outputs": [],
   "source": [
    "def incorrect_preds(predictions, Y_test, X_test, filename):\n",
    "    incorrects = np.nonzero(predictions.reshape((-1,)) != Y_test.values)\n",
    "    \n",
    "    handle = open(filename, \"w\")\n",
    "    for val in incorrects[0]:\n",
    "        row = str(X_test.values[val]) + \",\" + str(Y_test.values[val]) + \"\\n\"\n",
    "        handle.write(row)    "
   ]
  },
  {
   "cell_type": "code",
   "execution_count": 75,
   "metadata": {},
   "outputs": [],
   "source": [
    "incorrect_preds(urltypes, Y_test, X_test, \"sample.csv\")"
   ]
  },
  {
   "cell_type": "code",
   "execution_count": 70,
   "metadata": {},
   "outputs": [
    {
     "name": "stdout",
     "output_type": "stream",
     "text": [
      "772624\n"
     ]
    }
   ],
   "source": [
    "print(corrects)"
   ]
  },
  {
   "cell_type": "code",
   "execution_count": 71,
   "metadata": {},
   "outputs": [],
   "source": [
    "total = len(urltypes)"
   ]
  },
  {
   "cell_type": "code",
   "execution_count": 72,
   "metadata": {},
   "outputs": [
    {
     "name": "stdout",
     "output_type": "stream",
     "text": [
      "Accuracy: 0.9813029866195886\n"
     ]
    }
   ],
   "source": [
    "print(\"Accuracy:\", corrects * 1.0/total)"
   ]
  },
  {
   "cell_type": "code",
   "execution_count": null,
   "metadata": {},
   "outputs": [],
   "source": []
  }
 ],
 "metadata": {
  "kernelspec": {
   "display_name": "Python 3",
   "language": "python",
   "name": "python3"
  },
  "language_info": {
   "codemirror_mode": {
    "name": "ipython",
    "version": 3
   },
   "file_extension": ".py",
   "mimetype": "text/x-python",
   "name": "python",
   "nbconvert_exporter": "python",
   "pygments_lexer": "ipython3",
   "version": "3.5.3"
  }
 },
 "nbformat": 4,
 "nbformat_minor": 2
}
