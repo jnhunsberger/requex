{
 "cells": [
  {
   "cell_type": "markdown",
   "metadata": {},
   "source": [
    "# Logistic Regression classification model\n",
    "\n",
    "A simple logictic regression is used to classify the domains as DGA or non-DGA. This model is much faster in inference compared to LSTMs, and will serve as a baseline for comparison.\n"
   ]
  },
  {
   "cell_type": "code",
   "execution_count": 39,
   "metadata": {},
   "outputs": [],
   "source": [
    "import pandas as pd\n",
    "import numpy as np\n",
    "import json\n",
    "from sklearn.model_selection import train_test_split\n",
    "from sklearn.metrics import accuracy_score, classification_report\n",
    "from sklearn.linear_model import LogisticRegression\n",
    "from sklearn.model_selection import GridSearchCV\n",
    "\n",
    "from keras.preprocessing import sequence\n",
    "from keras.preprocessing import text"
   ]
  },
  {
   "cell_type": "code",
   "execution_count": 40,
   "metadata": {},
   "outputs": [],
   "source": [
    "# Path and file variables for saving model information\n",
    "path_dir = '.\\\\saved_models\\\\'\n",
    "name_m_report        = path_dir + 'logisticR_metrics_report'\n",
    "name_c_report        = path_dir + 'logisticR_class_report'\n",
    "\n",
    "# format and report dump switches\n",
    "dump_pred_results    = 0x03                                 # bitmask switches to dump prediction results: \n",
    "                                                            #       0x01: prediction metrics\n",
    "                                                            #       0x02: domains' mis-classifications table\n",
    "format_m_report       = 'json'                              # 'json' format only, csv doesn't fit correctly here\n",
    "format_c_report       = ['json', 'csv']                     # atleast 1 of: 'csv' or 'json'\n",
    "\n",
    "# Category names\n",
    "name_DGA = 'DGA'\n",
    "name_nonDGA = 'non-DGA'"
   ]
  },
  {
   "cell_type": "code",
   "execution_count": 41,
   "metadata": {},
   "outputs": [],
   "source": [
    "# Read DGA and Cisco high confidence data\n",
    "dga_df = pd.read_csv('..\\\\data\\\\2018_0923\\\\dga-feed-high.csv', header=None, skiprows=15)\n",
    "cisco_df = pd.read_csv('..\\\\data\\\\2018_0923\\\\top-1m.csv', header=None)"
   ]
  },
  {
   "cell_type": "code",
   "execution_count": 42,
   "metadata": {},
   "outputs": [],
   "source": [
    "# display head\n",
    "def display_df(dga_df_, cisco_df_):\n",
    "    display(\"DGA feed sample: {}\".format( dga_df_.shape) )\n",
    "    display(dga_df_.head())\n",
    "    display(\"Cisco feed sample: {}\".format( cisco_df_.shape) )\n",
    "    display(cisco_df_.head())"
   ]
  },
  {
   "cell_type": "code",
   "execution_count": 43,
   "metadata": {},
   "outputs": [
    {
     "data": {
      "text/plain": [
       "'DGA feed sample: (381953, 2)'"
      ]
     },
     "metadata": {},
     "output_type": "display_data"
    },
    {
     "data": {
      "text/html": [
       "<div>\n",
       "<style scoped>\n",
       "    .dataframe tbody tr th:only-of-type {\n",
       "        vertical-align: middle;\n",
       "    }\n",
       "\n",
       "    .dataframe tbody tr th {\n",
       "        vertical-align: top;\n",
       "    }\n",
       "\n",
       "    .dataframe thead th {\n",
       "        text-align: right;\n",
       "    }\n",
       "</style>\n",
       "<table border=\"1\" class=\"dataframe\">\n",
       "  <thead>\n",
       "    <tr style=\"text-align: right;\">\n",
       "      <th></th>\n",
       "      <th>domain</th>\n",
       "      <th>dga</th>\n",
       "    </tr>\n",
       "  </thead>\n",
       "  <tbody>\n",
       "    <tr>\n",
       "      <th>0</th>\n",
       "      <td>plvklpgwivery.com</td>\n",
       "      <td>DGA</td>\n",
       "    </tr>\n",
       "    <tr>\n",
       "      <th>1</th>\n",
       "      <td>dnuxdhcgblsgy.net</td>\n",
       "      <td>DGA</td>\n",
       "    </tr>\n",
       "    <tr>\n",
       "      <th>2</th>\n",
       "      <td>qjlullhfkiowp.biz</td>\n",
       "      <td>DGA</td>\n",
       "    </tr>\n",
       "    <tr>\n",
       "      <th>3</th>\n",
       "      <td>elkidddodxdly.ru</td>\n",
       "      <td>DGA</td>\n",
       "    </tr>\n",
       "    <tr>\n",
       "      <th>4</th>\n",
       "      <td>rnbfwuprlwfor.org</td>\n",
       "      <td>DGA</td>\n",
       "    </tr>\n",
       "  </tbody>\n",
       "</table>\n",
       "</div>"
      ],
      "text/plain": [
       "              domain  dga\n",
       "0  plvklpgwivery.com  DGA\n",
       "1  dnuxdhcgblsgy.net  DGA\n",
       "2  qjlullhfkiowp.biz  DGA\n",
       "3   elkidddodxdly.ru  DGA\n",
       "4  rnbfwuprlwfor.org  DGA"
      ]
     },
     "metadata": {},
     "output_type": "display_data"
    },
    {
     "data": {
      "text/plain": [
       "'Cisco feed sample: (1000000, 2)'"
      ]
     },
     "metadata": {},
     "output_type": "display_data"
    },
    {
     "data": {
      "text/html": [
       "<div>\n",
       "<style scoped>\n",
       "    .dataframe tbody tr th:only-of-type {\n",
       "        vertical-align: middle;\n",
       "    }\n",
       "\n",
       "    .dataframe tbody tr th {\n",
       "        vertical-align: top;\n",
       "    }\n",
       "\n",
       "    .dataframe thead th {\n",
       "        text-align: right;\n",
       "    }\n",
       "</style>\n",
       "<table border=\"1\" class=\"dataframe\">\n",
       "  <thead>\n",
       "    <tr style=\"text-align: right;\">\n",
       "      <th></th>\n",
       "      <th>domain</th>\n",
       "      <th>dga</th>\n",
       "    </tr>\n",
       "  </thead>\n",
       "  <tbody>\n",
       "    <tr>\n",
       "      <th>0</th>\n",
       "      <td>netflix.com</td>\n",
       "      <td>non-DGA</td>\n",
       "    </tr>\n",
       "    <tr>\n",
       "      <th>1</th>\n",
       "      <td>api-global.netflix.com</td>\n",
       "      <td>non-DGA</td>\n",
       "    </tr>\n",
       "    <tr>\n",
       "      <th>2</th>\n",
       "      <td>prod.netflix.com</td>\n",
       "      <td>non-DGA</td>\n",
       "    </tr>\n",
       "    <tr>\n",
       "      <th>3</th>\n",
       "      <td>push.prod.netflix.com</td>\n",
       "      <td>non-DGA</td>\n",
       "    </tr>\n",
       "    <tr>\n",
       "      <th>4</th>\n",
       "      <td>google.com</td>\n",
       "      <td>non-DGA</td>\n",
       "    </tr>\n",
       "  </tbody>\n",
       "</table>\n",
       "</div>"
      ],
      "text/plain": [
       "                   domain      dga\n",
       "0             netflix.com  non-DGA\n",
       "1  api-global.netflix.com  non-DGA\n",
       "2        prod.netflix.com  non-DGA\n",
       "3   push.prod.netflix.com  non-DGA\n",
       "4              google.com  non-DGA"
      ]
     },
     "metadata": {},
     "output_type": "display_data"
    }
   ],
   "source": [
    "# Remove unused columns, add output label 'dga'\n",
    "\n",
    "dga_df_slim =   dga_df.drop(columns=range(1,dga_df.shape[1]), inplace=False)\n",
    "dga_df_slim.columns = ['domain']\n",
    "cisco_df_slim = cisco_df.drop(columns=[0], inplace=False)\n",
    "cisco_df_slim.columns = ['domain']\n",
    "dga_df_slim['dga'] = name_DGA\n",
    "cisco_df_slim['dga'] = name_nonDGA\n",
    "\n",
    "display_df(dga_df_slim, cisco_df_slim)\n",
    "unified_df = pd.concat([cisco_df_slim, dga_df_slim], ignore_index=True)\n",
    "unified_df['dga'], labels = pd.factorize(unified_df['dga'], sort=True)   # binary factorization and potentially realigning the DGA categories"
   ]
  },
  {
   "cell_type": "code",
   "execution_count": 44,
   "metadata": {},
   "outputs": [],
   "source": [
    "# Separate input sequences (domains) and output labels (DGA 0/1), and do train/test split\n",
    "\n",
    "X = unified_df['domain']\n",
    "Y = unified_df['dga']\n",
    "X_train, X_test, Y_train, Y_test = train_test_split(X, Y, test_size=0.2,random_state=23)"
   ]
  },
  {
   "cell_type": "code",
   "execution_count": 45,
   "metadata": {
    "scrolled": false
   },
   "outputs": [
    {
     "name": "stdout",
     "output_type": "stream",
     "text": [
      "[LibLinear]"
     ]
    }
   ],
   "source": [
    "# Logistic regression classification\n",
    "\n",
    "TRAIN_MODEL = True                                         # Load saved model otherwise\n",
    "\n",
    "max_seq_len = 75                                            # maximum char length of domain name\n",
    "                                                     # train the model\n",
    "# encode string characters to integers\n",
    "encoder = text.Tokenizer(num_words=500, char_level=True)\n",
    "encoder.fit_on_texts(X_train)                            # build character indices\n",
    "X_train_tz = encoder.texts_to_sequences(X_train)\n",
    "\n",
    "# Model definition\n",
    "model=LogisticRegression(tol=0.01, C=1, solver='liblinear', max_iter=1000, verbose=20)\n",
    "\n",
    "# Pad sequence where sequences are case insensitive characters encoded to\n",
    "# integers from 0 to number of valid characters\n",
    "X_train_pad=sequence.pad_sequences(X_train_tz, maxlen=75)\n",
    "\n",
    "# Training\n",
    "model_hist = model.fit(X_train_pad, Y_train)"
   ]
  },
  {
   "cell_type": "code",
   "execution_count": 46,
   "metadata": {},
   "outputs": [],
   "source": [
    "# Validation on test dataset\n",
    "\n",
    "def report_metrics(model, labels, X_test, Y_test, name_nonDGA=name_nonDGA, name_DGA=name_DGA, verbose=True):\n",
    "    \n",
    "    # Compute prediction probabilities of classes \n",
    "    \n",
    "    X_test_pad = sequence.pad_sequences(encoder.texts_to_sequences(X_test), maxlen=max_seq_len)\n",
    "    Y_pred_prob = model.predict_proba(X_test_pad)\n",
    "    Y_pred = np.argmax(Y_pred_prob, axis=1)\n",
    "    acc = accuracy_score(Y_test, Y_pred)\n",
    "    print(\"Model accuracy = {:8.3f} %\".format(acc*100))\n",
    "    \n",
    "    # Inspect a few prediction probabilities\n",
    "    \n",
    "    pred_table = X_test.to_frame()\n",
    "    pred_table.columns = ['domain']\n",
    "    pred_table['trueClass'] = [labels[i] for i in Y_test]\n",
    "    pred_table['predClass'] = [labels[i] for i in Y_pred]\n",
    "    pred_table['predProb'] = [Y_pred_prob[idx][Y_pred[idx]] for idx in range(0, Y_pred.shape[0]) ]\n",
    "    \n",
    "    pred_table_FP = pred_table[(pred_table['trueClass'] == name_nonDGA) & (pred_table['predClass'] == name_DGA) ]\n",
    "    pred_FP_frac = pred_table_FP.shape[0]/pred_table.shape[0]\n",
    "    print('\\nPercentage of False Positives (i.e. nonDGA domains classified as DGA): {:6.4f} %'\n",
    "          .format(100*pred_FP_frac))\n",
    "    \n",
    "    pred_table_FN = pred_table[(pred_table['trueClass'] == name_DGA) & (pred_table['predClass'] == name_nonDGA) ]\n",
    "    pred_FN_frac = pred_table_FN.shape[0]/pred_table.shape[0]\n",
    "    print('\\nPercentage of False Negatives (i.e. DGA domains classified as nonDGA): {:6.4f} %'\n",
    "          .format(100*pred_FN_frac))\n",
    "    \n",
    "    if verbose:\n",
    "        print('\\nSample of correctly predicted Domains:')\n",
    "        display(pred_table[pred_table['trueClass'] == pred_table['predClass'] ].head(10) )\n",
    "        \n",
    "        print('\\nSample of mis-predicted Domains:')\n",
    "        display(pred_table[pred_table['trueClass'] != pred_table['predClass'] ].head(10) )\n",
    "    \n",
    "    return Y_pred"
   ]
  },
  {
   "cell_type": "code",
   "execution_count": 58,
   "metadata": {},
   "outputs": [
    {
     "name": "stdout",
     "output_type": "stream",
     "text": [
      "Model accuracy =   86.872 %\n",
      "\n",
      "Percentage of False Positives (i.e. nonDGA domains classified as DGA): 4.4889 %\n",
      "\n",
      "Percentage of False Negatives (i.e. DGA domains classified as nonDGA): 8.6392 %\n",
      "\n",
      "Sample of correctly predicted Domains:\n"
     ]
    },
    {
     "data": {
      "text/html": [
       "<div>\n",
       "<style scoped>\n",
       "    .dataframe tbody tr th:only-of-type {\n",
       "        vertical-align: middle;\n",
       "    }\n",
       "\n",
       "    .dataframe tbody tr th {\n",
       "        vertical-align: top;\n",
       "    }\n",
       "\n",
       "    .dataframe thead th {\n",
       "        text-align: right;\n",
       "    }\n",
       "</style>\n",
       "<table border=\"1\" class=\"dataframe\">\n",
       "  <thead>\n",
       "    <tr style=\"text-align: right;\">\n",
       "      <th></th>\n",
       "      <th>domain</th>\n",
       "      <th>trueClass</th>\n",
       "      <th>predClass</th>\n",
       "      <th>predProb</th>\n",
       "    </tr>\n",
       "  </thead>\n",
       "  <tbody>\n",
       "    <tr>\n",
       "      <th>124546</th>\n",
       "      <td>ns47.domaincontrol.com</td>\n",
       "      <td>non-DGA</td>\n",
       "      <td>non-DGA</td>\n",
       "      <td>0.988869</td>\n",
       "    </tr>\n",
       "    <tr>\n",
       "      <th>660921</th>\n",
       "      <td>britishlibrary.typepad.co.uk</td>\n",
       "      <td>non-DGA</td>\n",
       "      <td>non-DGA</td>\n",
       "      <td>0.595031</td>\n",
       "    </tr>\n",
       "    <tr>\n",
       "      <th>446456</th>\n",
       "      <td>a538.casalemedia.com</td>\n",
       "      <td>non-DGA</td>\n",
       "      <td>non-DGA</td>\n",
       "      <td>0.978420</td>\n",
       "    </tr>\n",
       "    <tr>\n",
       "      <th>600919</th>\n",
       "      <td>ign-ar8de21s8pinm-8d3d0d118-4d8d69dgoogleplayd...</td>\n",
       "      <td>non-DGA</td>\n",
       "      <td>non-DGA</td>\n",
       "      <td>0.999997</td>\n",
       "    </tr>\n",
       "    <tr>\n",
       "      <th>1186650</th>\n",
       "      <td>gbggekvj.eu</td>\n",
       "      <td>DGA</td>\n",
       "      <td>DGA</td>\n",
       "      <td>0.588945</td>\n",
       "    </tr>\n",
       "    <tr>\n",
       "      <th>115543</th>\n",
       "      <td>ewr-66.ewr-rtb1.rfihub.com</td>\n",
       "      <td>non-DGA</td>\n",
       "      <td>non-DGA</td>\n",
       "      <td>0.841470</td>\n",
       "    </tr>\n",
       "    <tr>\n",
       "      <th>1360357</th>\n",
       "      <td>vsagkcaahpxrfbmqljnnxutj.com</td>\n",
       "      <td>DGA</td>\n",
       "      <td>DGA</td>\n",
       "      <td>0.541498</td>\n",
       "    </tr>\n",
       "    <tr>\n",
       "      <th>464912</th>\n",
       "      <td>static.bladeandsoul.com</td>\n",
       "      <td>non-DGA</td>\n",
       "      <td>non-DGA</td>\n",
       "      <td>0.946659</td>\n",
       "    </tr>\n",
       "    <tr>\n",
       "      <th>1097547</th>\n",
       "      <td>dlpyniywfxxp.com</td>\n",
       "      <td>DGA</td>\n",
       "      <td>DGA</td>\n",
       "      <td>0.777868</td>\n",
       "    </tr>\n",
       "    <tr>\n",
       "      <th>606453</th>\n",
       "      <td>trans11212.addressy.com</td>\n",
       "      <td>non-DGA</td>\n",
       "      <td>non-DGA</td>\n",
       "      <td>0.649959</td>\n",
       "    </tr>\n",
       "  </tbody>\n",
       "</table>\n",
       "</div>"
      ],
      "text/plain": [
       "                                                    domain trueClass  \\\n",
       "124546                              ns47.domaincontrol.com   non-DGA   \n",
       "660921                        britishlibrary.typepad.co.uk   non-DGA   \n",
       "446456                                a538.casalemedia.com   non-DGA   \n",
       "600919   ign-ar8de21s8pinm-8d3d0d118-4d8d69dgoogleplayd...   non-DGA   \n",
       "1186650                                        gbggekvj.eu       DGA   \n",
       "115543                          ewr-66.ewr-rtb1.rfihub.com   non-DGA   \n",
       "1360357                       vsagkcaahpxrfbmqljnnxutj.com       DGA   \n",
       "464912                             static.bladeandsoul.com   non-DGA   \n",
       "1097547                                   dlpyniywfxxp.com       DGA   \n",
       "606453                             trans11212.addressy.com   non-DGA   \n",
       "\n",
       "        predClass  predProb  \n",
       "124546    non-DGA  0.988869  \n",
       "660921    non-DGA  0.595031  \n",
       "446456    non-DGA  0.978420  \n",
       "600919    non-DGA  0.999997  \n",
       "1186650       DGA  0.588945  \n",
       "115543    non-DGA  0.841470  \n",
       "1360357       DGA  0.541498  \n",
       "464912    non-DGA  0.946659  \n",
       "1097547       DGA  0.777868  \n",
       "606453    non-DGA  0.649959  "
      ]
     },
     "metadata": {},
     "output_type": "display_data"
    },
    {
     "name": "stdout",
     "output_type": "stream",
     "text": [
      "\n",
      "Sample of mis-predicted Domains:\n"
     ]
    },
    {
     "data": {
      "text/html": [
       "<div>\n",
       "<style scoped>\n",
       "    .dataframe tbody tr th:only-of-type {\n",
       "        vertical-align: middle;\n",
       "    }\n",
       "\n",
       "    .dataframe tbody tr th {\n",
       "        vertical-align: top;\n",
       "    }\n",
       "\n",
       "    .dataframe thead th {\n",
       "        text-align: right;\n",
       "    }\n",
       "</style>\n",
       "<table border=\"1\" class=\"dataframe\">\n",
       "  <thead>\n",
       "    <tr style=\"text-align: right;\">\n",
       "      <th></th>\n",
       "      <th>domain</th>\n",
       "      <th>trueClass</th>\n",
       "      <th>predClass</th>\n",
       "      <th>predProb</th>\n",
       "    </tr>\n",
       "  </thead>\n",
       "  <tbody>\n",
       "    <tr>\n",
       "      <th>1359727</th>\n",
       "      <td>uxamuoylbidlktngprh.com</td>\n",
       "      <td>DGA</td>\n",
       "      <td>non-DGA</td>\n",
       "      <td>0.659950</td>\n",
       "    </tr>\n",
       "    <tr>\n",
       "      <th>1372453</th>\n",
       "      <td>snoumrqnyi.mooo.com</td>\n",
       "      <td>DGA</td>\n",
       "      <td>non-DGA</td>\n",
       "      <td>0.951096</td>\n",
       "    </tr>\n",
       "    <tr>\n",
       "      <th>882015</th>\n",
       "      <td>ebanking-ch1.ubs.com</td>\n",
       "      <td>non-DGA</td>\n",
       "      <td>DGA</td>\n",
       "      <td>0.549897</td>\n",
       "    </tr>\n",
       "    <tr>\n",
       "      <th>90390</th>\n",
       "      <td>6htb5ck86hk8i9.com</td>\n",
       "      <td>non-DGA</td>\n",
       "      <td>DGA</td>\n",
       "      <td>0.997115</td>\n",
       "    </tr>\n",
       "    <tr>\n",
       "      <th>266868</th>\n",
       "      <td>cdn.quizzclub.com</td>\n",
       "      <td>non-DGA</td>\n",
       "      <td>DGA</td>\n",
       "      <td>0.685064</td>\n",
       "    </tr>\n",
       "    <tr>\n",
       "      <th>1234281</th>\n",
       "      <td>bimyhmupgtetju.me</td>\n",
       "      <td>DGA</td>\n",
       "      <td>non-DGA</td>\n",
       "      <td>0.683658</td>\n",
       "    </tr>\n",
       "    <tr>\n",
       "      <th>1010085</th>\n",
       "      <td>1exf5ov1251gcf11d1v5s1af6cca.org</td>\n",
       "      <td>DGA</td>\n",
       "      <td>non-DGA</td>\n",
       "      <td>0.585229</td>\n",
       "    </tr>\n",
       "    <tr>\n",
       "      <th>1256521</th>\n",
       "      <td>asoqhiiugkeq.net</td>\n",
       "      <td>DGA</td>\n",
       "      <td>non-DGA</td>\n",
       "      <td>0.553420</td>\n",
       "    </tr>\n",
       "    <tr>\n",
       "      <th>1373227</th>\n",
       "      <td>uqmwgucn.mooo.com</td>\n",
       "      <td>DGA</td>\n",
       "      <td>non-DGA</td>\n",
       "      <td>0.968331</td>\n",
       "    </tr>\n",
       "    <tr>\n",
       "      <th>1058709</th>\n",
       "      <td>mtjuddabaum.pw</td>\n",
       "      <td>DGA</td>\n",
       "      <td>non-DGA</td>\n",
       "      <td>0.527847</td>\n",
       "    </tr>\n",
       "  </tbody>\n",
       "</table>\n",
       "</div>"
      ],
      "text/plain": [
       "                                   domain trueClass predClass  predProb\n",
       "1359727           uxamuoylbidlktngprh.com       DGA   non-DGA  0.659950\n",
       "1372453               snoumrqnyi.mooo.com       DGA   non-DGA  0.951096\n",
       "882015               ebanking-ch1.ubs.com   non-DGA       DGA  0.549897\n",
       "90390                  6htb5ck86hk8i9.com   non-DGA       DGA  0.997115\n",
       "266868                  cdn.quizzclub.com   non-DGA       DGA  0.685064\n",
       "1234281                 bimyhmupgtetju.me       DGA   non-DGA  0.683658\n",
       "1010085  1exf5ov1251gcf11d1v5s1af6cca.org       DGA   non-DGA  0.585229\n",
       "1256521                  asoqhiiugkeq.net       DGA   non-DGA  0.553420\n",
       "1373227                 uqmwgucn.mooo.com       DGA   non-DGA  0.968331\n",
       "1058709                    mtjuddabaum.pw       DGA   non-DGA  0.527847"
      ]
     },
     "metadata": {},
     "output_type": "display_data"
    },
    {
     "data": {
      "text/plain": [
       "array([1, 1, 1, ..., 1, 0, 0], dtype=int64)"
      ]
     },
     "execution_count": 58,
     "metadata": {},
     "output_type": "execute_result"
    }
   ],
   "source": [
    "report_metrics(model, labels, X_test, Y_test)"
   ]
  },
  {
   "cell_type": "markdown",
   "metadata": {},
   "source": [
    "### Initial impression:\n",
    "Although the training and inference of Logistic Regression is very fast compared to LSTM, its accuracy lags behind substantially. This is prohibitive in terms of production deployment of this model, as it would mean that roughly 5 % of the domains would be Falsely classified as DGA domains and hence blocked. This would not be a tolerable experience by the end user/client. "
   ]
  },
  {
   "cell_type": "markdown",
   "metadata": {},
   "source": [
    "### Hyperparameters' optimization\n",
    "In this section, the `GridSearchCV` is used to optimize the values of hyperparameters for maximizing accuracy."
   ]
  },
  {
   "cell_type": "code",
   "execution_count": 10,
   "metadata": {
    "scrolled": false
   },
   "outputs": [
    {
     "name": "stdout",
     "output_type": "stream",
     "text": [
      "Optimizing hyperparameters part 1\n",
      "Fitting 3 folds for each of 90 candidates, totalling 270 fits\n"
     ]
    },
    {
     "name": "stderr",
     "output_type": "stream",
     "text": [
      "[Parallel(n_jobs=5)]: Using backend LokyBackend with 5 concurrent workers.\n",
      "[Parallel(n_jobs=5)]: Done   8 tasks      | elapsed:  2.0min\n",
      "[Parallel(n_jobs=5)]: Done  62 tasks      | elapsed: 121.9min\n",
      "[Parallel(n_jobs=5)]: Done 152 tasks      | elapsed: 351.2min\n",
      "c:\\program files\\python36\\lib\\site-packages\\sklearn\\externals\\joblib\\externals\\loky\\process_executor.py:700: UserWarning: A worker stopped while some jobs were given to the executor. This can be caused by a too short worker timeout or by a memory leak.\n",
      "  \"timeout or by a memory leak.\", UserWarning\n",
      "[Parallel(n_jobs=5)]: Done 270 out of 270 | elapsed: 687.8min finished\n"
     ]
    },
    {
     "name": "stdout",
     "output_type": "stream",
     "text": [
      "[LibLinear]"
     ]
    },
    {
     "data": {
      "text/plain": [
       "GridSearchCV(cv=3, error_score='raise-deprecating',\n",
       "       estimator=LogisticRegression(C=1, class_weight=None, dual=False, fit_intercept=True,\n",
       "          intercept_scaling=1, max_iter=1000, multi_class='warn',\n",
       "          n_jobs=None, penalty='l2', random_state=None, solver='liblinear',\n",
       "          tol=0.01, verbose=20, warm_start=False),\n",
       "       fit_params=None, iid='warn', n_jobs=5,\n",
       "       param_grid={'penalty': ['l1'], 'tol': [0.01, 0.001, 0.0001, 1e-05, 1e-06], 'C': array([1., 2., 3., 4., 5., 6., 7., 8., 9.]), 'solver': ['liblinear', 'saga']},\n",
       "       pre_dispatch='2*n_jobs', refit=True, return_train_score='warn',\n",
       "       scoring=None, verbose=5)"
      ]
     },
     "execution_count": 10,
     "metadata": {},
     "output_type": "execute_result"
    }
   ],
   "source": [
    "parall_jobs = 5                                           # number of parallel jobs to launch\n",
    "print(\"Optimizing hyperparameters part 1\")\n",
    "searchParams1 = {\n",
    "    'penalty': ['l1'],\n",
    "    'tol':     [1e-2, 1e-3, 1e-4, 1e-5, 1e-6],\n",
    "    'C':       np.arange(1.0, 10.0, 1.0),\n",
    "    'solver':  ['liblinear', 'saga']\n",
    "}\n",
    "\n",
    "optModel1 = GridSearchCV(model, param_grid=searchParams1, n_jobs=parall_jobs, cv=3, verbose=0)\n",
    "optModel1.fit(X_train_pad, Y_train)"
   ]
  },
  {
   "cell_type": "code",
   "execution_count": 12,
   "metadata": {},
   "outputs": [
    {
     "name": "stdout",
     "output_type": "stream",
     "text": [
      "Optimizing hyperparameters part 2\n"
     ]
    },
    {
     "name": "stderr",
     "output_type": "stream",
     "text": [
      "[Parallel(n_jobs=1)]: Using backend SequentialBackend with 1 concurrent workers.\n",
      "[Parallel(n_jobs=1)]: Done   1 out of   1 | elapsed:  3.5min remaining:    0.0s\n",
      "[Parallel(n_jobs=1)]: Done   1 out of   1 | elapsed:  3.5min finished\n"
     ]
    },
    {
     "data": {
      "text/plain": [
       "GridSearchCV(cv=3, error_score='raise-deprecating',\n",
       "       estimator=LogisticRegression(C=1, class_weight=None, dual=False, fit_intercept=True,\n",
       "          intercept_scaling=1, max_iter=1000, multi_class='warn',\n",
       "          n_jobs=None, penalty='l2', random_state=None, solver='liblinear',\n",
       "          tol=0.01, verbose=20, warm_start=False),\n",
       "       fit_params=None, iid='warn', n_jobs=5,\n",
       "       param_grid={'penalty': ['l2'], 'tol': [0.01, 0.001, 0.0001, 1e-05, 1e-06], 'C': array([1., 2., 3., 4., 5., 6., 7., 8., 9.]), 'solver': ['newton-cg', 'lbfgs', 'sag']},\n",
       "       pre_dispatch='2*n_jobs', refit=True, return_train_score='warn',\n",
       "       scoring=None, verbose=0)"
      ]
     },
     "execution_count": 12,
     "metadata": {},
     "output_type": "execute_result"
    }
   ],
   "source": [
    "print(\"Optimizing hyperparameters part 2\")\n",
    "searchParams2 = {\n",
    "    'penalty': ['l2'],\n",
    "    'tol':     [1e-2, 1e-3, 1e-4, 1e-5, 1e-6],\n",
    "    'C':       np.arange(1.0, 10.0, 1.0),\n",
    "    'solver':  ['newton-cg', 'lbfgs', 'sag']\n",
    "}\n",
    "\n",
    "optModel2 = GridSearchCV(model, param_grid=searchParams2, n_jobs=parall_jobs, cv=3, verbose=0)\n",
    "optModel2.fit(X_train_pad, Y_train)"
   ]
  },
  {
   "cell_type": "code",
   "execution_count": 23,
   "metadata": {},
   "outputs": [
    {
     "name": "stdout",
     "output_type": "stream",
     "text": [
      "\n",
      "Optimization part1 best score: 0.8680146387086387 and settings: \n",
      "\n",
      "LogisticRegression(C=2.0, class_weight=None, dual=False, fit_intercept=True,\n",
      "          intercept_scaling=1, max_iter=1000, multi_class='warn',\n",
      "          n_jobs=None, penalty='l1', random_state=None, solver='liblinear',\n",
      "          tol=1e-05, verbose=20, warm_start=False)\n",
      "\n",
      "Optimization part2 best score: 0.8680227793647032 and settings: \n",
      "\n",
      "LogisticRegression(C=1.0, class_weight=None, dual=False, fit_intercept=True,\n",
      "          intercept_scaling=1, max_iter=1000, multi_class='warn',\n",
      "          n_jobs=None, penalty='l2', random_state=None, solver='lbfgs',\n",
      "          tol=0.01, verbose=20, warm_start=False)\n"
     ]
    }
   ],
   "source": [
    "# Examine the best estimator settings from hyperparameters' search\n",
    "\n",
    "print(\"\\nOptimization part1 best score: {} and settings: \\n\".format(optModel1.best_score_))\n",
    "print(optModel1.best_estimator_ )\n",
    "print(\"\\nOptimization part2 best score: {} and settings: \\n\".format(optModel2.best_score_))\n",
    "print(optModel2.best_estimator_ )"
   ]
  },
  {
   "cell_type": "markdown",
   "metadata": {},
   "source": [
    "### Final model evaluation:"
   ]
  },
  {
   "cell_type": "code",
   "execution_count": 48,
   "metadata": {},
   "outputs": [
    {
     "name": "stdout",
     "output_type": "stream",
     "text": [
      "Model accuracy =   86.899 %\n",
      "\n",
      "Percentage of False Positives (i.e. nonDGA domains classified as DGA): 4.5551 %\n",
      "\n",
      "Percentage of False Negatives (i.e. DGA domains classified as nonDGA): 8.5462 %\n"
     ]
    },
    {
     "data": {
      "text/plain": [
       "array([1, 1, 1, ..., 1, 0, 0], dtype=int64)"
      ]
     },
     "execution_count": 48,
     "metadata": {},
     "output_type": "execute_result"
    }
   ],
   "source": [
    "# Re evaluate with the best model settings\n",
    "modelF = LogisticRegression(tol=0.01, C=1.0, solver='lbfgs', max_iter=1000, verbose=0)\n",
    "\n",
    "modelF_hist = modelF.fit(X_train_pad, Y_train)\n",
    "\n",
    "report_metrics(modelF, labels, X_test, Y_test, verbose=False)"
   ]
  },
  {
   "cell_type": "markdown",
   "metadata": {},
   "source": [
    "### Classify a new feed with a model trained on old feed:\n",
    "\n",
    "An old feed from September is used to train the model (100 % training, no test split) first and then this model is used to classify a newer feed from November. This exercise exposes if the model is able to adapt to temporal changes, and how does it compare with similar exercise carried out on the LSTM model that showed **97.887 %** accuracy."
   ]
  },
  {
   "cell_type": "code",
   "execution_count": 73,
   "metadata": {},
   "outputs": [
    {
     "name": "stdout",
     "output_type": "stream",
     "text": [
      "Sample of new feed:\n"
     ]
    },
    {
     "data": {
      "text/html": [
       "<div>\n",
       "<style scoped>\n",
       "    .dataframe tbody tr th:only-of-type {\n",
       "        vertical-align: middle;\n",
       "    }\n",
       "\n",
       "    .dataframe tbody tr th {\n",
       "        vertical-align: top;\n",
       "    }\n",
       "\n",
       "    .dataframe thead th {\n",
       "        text-align: right;\n",
       "    }\n",
       "</style>\n",
       "<table border=\"1\" class=\"dataframe\">\n",
       "  <thead>\n",
       "    <tr style=\"text-align: right;\">\n",
       "      <th></th>\n",
       "      <th>domain</th>\n",
       "      <th>dga</th>\n",
       "    </tr>\n",
       "  </thead>\n",
       "  <tbody>\n",
       "    <tr>\n",
       "      <th>0</th>\n",
       "      <td>frbkpjqimjibis.com</td>\n",
       "      <td>0</td>\n",
       "    </tr>\n",
       "    <tr>\n",
       "      <th>1</th>\n",
       "      <td>spgjjbdvddxorx.net</td>\n",
       "      <td>0</td>\n",
       "    </tr>\n",
       "    <tr>\n",
       "      <th>2</th>\n",
       "      <td>cjputxijcqnfky.biz</td>\n",
       "      <td>0</td>\n",
       "    </tr>\n",
       "    <tr>\n",
       "      <th>3</th>\n",
       "      <td>phutnpuwskdskg.ru</td>\n",
       "      <td>0</td>\n",
       "    </tr>\n",
       "    <tr>\n",
       "      <th>4</th>\n",
       "      <td>dbfrtoqkorceir.org</td>\n",
       "      <td>0</td>\n",
       "    </tr>\n",
       "  </tbody>\n",
       "</table>\n",
       "</div>"
      ],
      "text/plain": [
       "               domain  dga\n",
       "0  frbkpjqimjibis.com    0\n",
       "1  spgjjbdvddxorx.net    0\n",
       "2  cjputxijcqnfky.biz    0\n",
       "3   phutnpuwskdskg.ru    0\n",
       "4  dbfrtoqkorceir.org    0"
      ]
     },
     "metadata": {},
     "output_type": "display_data"
    }
   ],
   "source": [
    "# Prepare dataset from a newer feed\n",
    "dga_new_df = pd.read_csv('..\\\\data\\\\2018-11-12\\\\dga-feed-high.csv', header=None, skiprows=15)\n",
    "dga_new_df_slim =   dga_new_df.drop(columns=range(1,dga_new_df.shape[1]), inplace=False)\n",
    "dga_new_df_slim.columns = ['domain']\n",
    "dga_new_df_slim['dga'] = name_DGA\n",
    "\n",
    "labels_dict = dict()\n",
    "for i, cat in enumerate(labels):\n",
    "    labels_dict[cat] = i\n",
    "\n",
    "dga_new_df_slim['dga'] = dga_new_df_slim.apply(lambda row: labels_dict[row['dga']], axis=1)\n",
    "\n",
    "print(\"Sample of new feed:\")\n",
    "display(dga_new_df_slim.head())\n",
    "\n",
    "X_train_old = unified_df['domain']\n",
    "Y_train_old = unified_df['dga']\n",
    "X_test_new  = dga_new_df_slim['domain']\n",
    "Y_test_new  = dga_new_df_slim['dga']\n",
    "\n",
    "encoderON = text.Tokenizer(num_words=500, char_level=True)\n",
    "encoderON.fit_on_texts(X_train_old)\n",
    "X_train_old_tz = encoderON.texts_to_sequences(X_train_old)\n",
    "X_train_old_pad = sequence.pad_sequences(X_train_old_tz, maxlen=75)"
   ]
  },
  {
   "cell_type": "code",
   "execution_count": 74,
   "metadata": {},
   "outputs": [
    {
     "name": "stdout",
     "output_type": "stream",
     "text": [
      "Model accuracy =   68.960 %\n",
      "\n",
      "Percentage of False Positives (i.e. nonDGA domains classified as DGA): 0.0000 %\n",
      "\n",
      "Percentage of False Negatives (i.e. DGA domains classified as nonDGA): 31.0403 %\n"
     ]
    },
    {
     "name": "stderr",
     "output_type": "stream",
     "text": [
      "c:\\program files\\python36\\lib\\site-packages\\sklearn\\metrics\\classification.py:1145: UndefinedMetricWarning: Recall and F-score are ill-defined and being set to 0.0 in labels with no true samples.\n",
      "  'recall', 'true', average, warn_for)\n"
     ]
    },
    {
     "name": "stdout",
     "output_type": "stream",
     "text": [
      "              precision    recall  f1-score   support\n",
      "\n",
      "         DGA       1.00      0.69      0.82    371623\n",
      "     non-DGA       0.00      0.00      0.00         0\n",
      "\n",
      "   micro avg       0.69      0.69      0.69    371623\n",
      "   macro avg       0.50      0.34      0.41    371623\n",
      "weighted avg       1.00      0.69      0.82    371623\n",
      "\n"
     ]
    }
   ],
   "source": [
    "# Train on old datset and infer on a newer dataset\n",
    "modelON = LogisticRegression(tol=0.01, C=1.0, solver='lbfgs', max_iter=1000, verbose=0)\n",
    "modelON_hist = modelON.fit(X_train_old_pad, Y_train_old)\n",
    "Y_pred_new = report_metrics(modelON, labels, X_test_new, Y_test_new, verbose=False)\n",
    "print(classification_report(Y_test_new, Y_pred_new, target_names=labels, output_dict=False))"
   ]
  },
  {
   "cell_type": "markdown",
   "metadata": {},
   "source": [
    "**The tuned, logistic model achieves only 69 % accuracy after being trained on old feed and used for inference on a new feed.**"
   ]
  },
  {
   "cell_type": "code",
   "execution_count": 14,
   "metadata": {},
   "outputs": [],
   "source": [
    "# dump classification metrics and FP/PF domains - SKIPPED FOR NOW\n",
    "\n",
    "# # accuracy, precision, recall, f1, false positive, false negative\n",
    "# if dump_pred_results & 0x01:\n",
    "#     metrics_report = classification_report(Y_test, Y_pred, target_names=labels, output_dict=True)\n",
    "#     metrics_report['accuracy'] = acc\n",
    "#     metrics_report['false positives'] = pred_FP_frac\n",
    "#     metrics_report['false negatives'] = pred_FN_frac\n",
    "#     \n",
    "#     if format_m_report == 'json':\n",
    "#         fileName = name_m_report + '.' + format_m_report\n",
    "#         with open(fileName, 'w') as filePath:\n",
    "#             json.dump(metrics_report, fp=filePath)\n",
    "#     \n",
    "# # False Positives and False Negatives\n",
    "# if dump_pred_results & 0x02:\n",
    "#     pred_table_FP.insert(0, 'type', 'FP')\n",
    "#     pred_table_FN.insert(0, 'type', 'FN')\n",
    "#     \n",
    "#     for extn in format_c_report:\n",
    "#         filePath = name_c_report + '.' + extn\n",
    "#         if extn == 'csv':\n",
    "#             pred_table_FP.to_csv(filePath, mode='w', index=False, header=True)\n",
    "#             pred_table_FN.to_csv(filePath, mode='a', index=False, header=False)\n",
    "#         elif extn == 'json':\n",
    "#             pred_table_FP.append(pred_table_FN)\n",
    "#             pred_table_FP.to_json(filePath, orient='table', index=False)"
   ]
  },
  {
   "cell_type": "code",
   "execution_count": null,
   "metadata": {},
   "outputs": [],
   "source": []
  }
 ],
 "metadata": {
  "kernelspec": {
   "display_name": "Python 3",
   "language": "python",
   "name": "python3"
  },
  "language_info": {
   "codemirror_mode": {
    "name": "ipython",
    "version": 3
   },
   "file_extension": ".py",
   "mimetype": "text/x-python",
   "name": "python",
   "nbconvert_exporter": "python",
   "pygments_lexer": "ipython3",
   "version": "3.6.3"
  }
 },
 "nbformat": 4,
 "nbformat_minor": 2
}
