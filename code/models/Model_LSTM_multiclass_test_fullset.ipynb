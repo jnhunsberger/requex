{
 "cells": [
  {
   "cell_type": "markdown",
   "metadata": {},
   "source": [
    "# Multiclass LSTM classification model - on DGA non-high feed\n",
    "\n",
    "In this notebook, we've replicated the multiclass LSTM model for the classification of various DGA categories a domain name may belong to; based on the Endgame paper:\n",
    "\n",
    "\"Predicting Domain Generation Algorithms with Long Short-Term Memory Networks\"\n",
    "http://arxiv.org/abs/1611.00791v1\n"
   ]
  },
  {
   "cell_type": "code",
   "execution_count": 1,
   "metadata": {},
   "outputs": [
    {
     "name": "stderr",
     "output_type": "stream",
     "text": [
      "Using TensorFlow backend.\n"
     ]
    }
   ],
   "source": [
    "import pandas as pd\n",
    "from sklearn.model_selection import train_test_split\n",
    "from sklearn.metrics import accuracy_score, classification_report\n",
    "\n",
    "from keras.models import Sequential, model_from_json\n",
    "from keras.layers.core import Dense, Dropout, Activation\n",
    "from keras.layers.embeddings import Embedding\n",
    "from keras.layers.recurrent import LSTM\n",
    "from keras.preprocessing import sequence\n",
    "from keras.preprocessing import text\n",
    "from keras.utils import to_categorical\n",
    "\n",
    "from tensorflow.python.client import device_lib"
   ]
  },
  {
   "cell_type": "code",
   "execution_count": 2,
   "metadata": {},
   "outputs": [
    {
     "name": "stdout",
     "output_type": "stream",
     "text": [
      "[name: \"/device:CPU:0\"\n",
      "device_type: \"CPU\"\n",
      "memory_limit: 268435456\n",
      "locality {\n",
      "}\n",
      "incarnation: 3932626750999856979\n",
      "]\n"
     ]
    }
   ],
   "source": [
    "# Confirm gpu is being picked up for acceleration\n",
    "print(device_lib.list_local_devices())"
   ]
  },
  {
   "cell_type": "code",
   "execution_count": 3,
   "metadata": {},
   "outputs": [],
   "source": [
    "# Read DGA and Cisco high confidence data\n",
    "dga_df = pd.read_csv('..\\\\data\\\\2018_0923\\\\dga-feed-high.csv', header=None, skiprows=15)\n",
    "dga_all_df = pd.read_csv('..\\\\data\\\\2018-10-14\\\\dga-feed.csv', header=None, skiprows=14)\n",
    "cisco_df = pd.read_csv('..\\\\data\\\\2018_0923\\\\top-1m.csv', header=None)"
   ]
  },
  {
   "cell_type": "code",
   "execution_count": 4,
   "metadata": {},
   "outputs": [],
   "source": [
    "\"\"\" Display head/tail/sample of the DGA and/or nonDGA data frames \"\"\"\n",
    "def display_df(dga_df_=None, cisco_df_=None, sample='head', seed=21):\n",
    "    \n",
    "    if dga_df_ is not None:\n",
    "        display(\"DGA feed sample: {}\".format( dga_df_.shape) )\n",
    "        if sample=='head':\n",
    "            display(dga_df_.head())\n",
    "        elif sample=='tail':\n",
    "            display(dga_df_.tail())\n",
    "        elif 'sample' in sample:\n",
    "            cnt = int(sample.strip('sample'))\n",
    "            display(dga_df_.sample(n=cnt, random_state=seed))\n",
    "            \n",
    "    if cisco_df_ is not None:\n",
    "        display(\"Cisco feed sample: {}\".format( cisco_df_.shape) )\n",
    "        if sample=='head':\n",
    "            display(cisco_df_.head())\n",
    "        elif sample=='tail':\n",
    "            display(cisco_df_.tail())\n",
    "        elif 'sample' in sample:\n",
    "            cnt = int(sample.strip('sample'))\n",
    "            display(cisco_df_.sample(n=cnt, random_state=seed))\n",
    "            "
   ]
  },
  {
   "cell_type": "code",
   "execution_count": 5,
   "metadata": {},
   "outputs": [
    {
     "data": {
      "text/plain": [
       "'DGA feed sample: (381953, 4)'"
      ]
     },
     "metadata": {},
     "output_type": "display_data"
    },
    {
     "data": {
      "text/html": [
       "<div>\n",
       "<style scoped>\n",
       "    .dataframe tbody tr th:only-of-type {\n",
       "        vertical-align: middle;\n",
       "    }\n",
       "\n",
       "    .dataframe tbody tr th {\n",
       "        vertical-align: top;\n",
       "    }\n",
       "\n",
       "    .dataframe thead th {\n",
       "        text-align: right;\n",
       "    }\n",
       "</style>\n",
       "<table border=\"1\" class=\"dataframe\">\n",
       "  <thead>\n",
       "    <tr style=\"text-align: right;\">\n",
       "      <th></th>\n",
       "      <th>0</th>\n",
       "      <th>1</th>\n",
       "      <th>2</th>\n",
       "      <th>3</th>\n",
       "    </tr>\n",
       "  </thead>\n",
       "  <tbody>\n",
       "    <tr>\n",
       "      <th>0</th>\n",
       "      <td>plvklpgwivery.com</td>\n",
       "      <td>Domain used by Cryptolocker - Flashback DGA fo...</td>\n",
       "      <td>2018-06-23</td>\n",
       "      <td>http://osint.bambenekconsulting.com/manual/cl.txt</td>\n",
       "    </tr>\n",
       "    <tr>\n",
       "      <th>1</th>\n",
       "      <td>dnuxdhcgblsgy.net</td>\n",
       "      <td>Domain used by Cryptolocker - Flashback DGA fo...</td>\n",
       "      <td>2018-06-23</td>\n",
       "      <td>http://osint.bambenekconsulting.com/manual/cl.txt</td>\n",
       "    </tr>\n",
       "    <tr>\n",
       "      <th>2</th>\n",
       "      <td>qjlullhfkiowp.biz</td>\n",
       "      <td>Domain used by Cryptolocker - Flashback DGA fo...</td>\n",
       "      <td>2018-06-23</td>\n",
       "      <td>http://osint.bambenekconsulting.com/manual/cl.txt</td>\n",
       "    </tr>\n",
       "    <tr>\n",
       "      <th>3</th>\n",
       "      <td>elkidddodxdly.ru</td>\n",
       "      <td>Domain used by Cryptolocker - Flashback DGA fo...</td>\n",
       "      <td>2018-06-23</td>\n",
       "      <td>http://osint.bambenekconsulting.com/manual/cl.txt</td>\n",
       "    </tr>\n",
       "    <tr>\n",
       "      <th>4</th>\n",
       "      <td>rnbfwuprlwfor.org</td>\n",
       "      <td>Domain used by Cryptolocker - Flashback DGA fo...</td>\n",
       "      <td>2018-06-23</td>\n",
       "      <td>http://osint.bambenekconsulting.com/manual/cl.txt</td>\n",
       "    </tr>\n",
       "  </tbody>\n",
       "</table>\n",
       "</div>"
      ],
      "text/plain": [
       "                   0                                                  1  \\\n",
       "0  plvklpgwivery.com  Domain used by Cryptolocker - Flashback DGA fo...   \n",
       "1  dnuxdhcgblsgy.net  Domain used by Cryptolocker - Flashback DGA fo...   \n",
       "2  qjlullhfkiowp.biz  Domain used by Cryptolocker - Flashback DGA fo...   \n",
       "3   elkidddodxdly.ru  Domain used by Cryptolocker - Flashback DGA fo...   \n",
       "4  rnbfwuprlwfor.org  Domain used by Cryptolocker - Flashback DGA fo...   \n",
       "\n",
       "            2                                                  3  \n",
       "0  2018-06-23  http://osint.bambenekconsulting.com/manual/cl.txt  \n",
       "1  2018-06-23  http://osint.bambenekconsulting.com/manual/cl.txt  \n",
       "2  2018-06-23  http://osint.bambenekconsulting.com/manual/cl.txt  \n",
       "3  2018-06-23  http://osint.bambenekconsulting.com/manual/cl.txt  \n",
       "4  2018-06-23  http://osint.bambenekconsulting.com/manual/cl.txt  "
      ]
     },
     "metadata": {},
     "output_type": "display_data"
    },
    {
     "data": {
      "text/plain": [
       "'Cisco feed sample: (1000000, 2)'"
      ]
     },
     "metadata": {},
     "output_type": "display_data"
    },
    {
     "data": {
      "text/html": [
       "<div>\n",
       "<style scoped>\n",
       "    .dataframe tbody tr th:only-of-type {\n",
       "        vertical-align: middle;\n",
       "    }\n",
       "\n",
       "    .dataframe tbody tr th {\n",
       "        vertical-align: top;\n",
       "    }\n",
       "\n",
       "    .dataframe thead th {\n",
       "        text-align: right;\n",
       "    }\n",
       "</style>\n",
       "<table border=\"1\" class=\"dataframe\">\n",
       "  <thead>\n",
       "    <tr style=\"text-align: right;\">\n",
       "      <th></th>\n",
       "      <th>0</th>\n",
       "      <th>1</th>\n",
       "    </tr>\n",
       "  </thead>\n",
       "  <tbody>\n",
       "    <tr>\n",
       "      <th>0</th>\n",
       "      <td>1</td>\n",
       "      <td>netflix.com</td>\n",
       "    </tr>\n",
       "    <tr>\n",
       "      <th>1</th>\n",
       "      <td>2</td>\n",
       "      <td>api-global.netflix.com</td>\n",
       "    </tr>\n",
       "    <tr>\n",
       "      <th>2</th>\n",
       "      <td>3</td>\n",
       "      <td>prod.netflix.com</td>\n",
       "    </tr>\n",
       "    <tr>\n",
       "      <th>3</th>\n",
       "      <td>4</td>\n",
       "      <td>push.prod.netflix.com</td>\n",
       "    </tr>\n",
       "    <tr>\n",
       "      <th>4</th>\n",
       "      <td>5</td>\n",
       "      <td>google.com</td>\n",
       "    </tr>\n",
       "  </tbody>\n",
       "</table>\n",
       "</div>"
      ],
      "text/plain": [
       "   0                       1\n",
       "0  1             netflix.com\n",
       "1  2  api-global.netflix.com\n",
       "2  3        prod.netflix.com\n",
       "3  4   push.prod.netflix.com\n",
       "4  5              google.com"
      ]
     },
     "metadata": {},
     "output_type": "display_data"
    }
   ],
   "source": [
    "display_df(dga_df, cisco_df)"
   ]
  },
  {
   "cell_type": "code",
   "execution_count": 6,
   "metadata": {},
   "outputs": [
    {
     "data": {
      "text/plain": [
       "'DGA feed sample: (381953, 2)'"
      ]
     },
     "metadata": {},
     "output_type": "display_data"
    },
    {
     "data": {
      "text/html": [
       "<div>\n",
       "<style scoped>\n",
       "    .dataframe tbody tr th:only-of-type {\n",
       "        vertical-align: middle;\n",
       "    }\n",
       "\n",
       "    .dataframe tbody tr th {\n",
       "        vertical-align: top;\n",
       "    }\n",
       "\n",
       "    .dataframe thead th {\n",
       "        text-align: right;\n",
       "    }\n",
       "</style>\n",
       "<table border=\"1\" class=\"dataframe\">\n",
       "  <thead>\n",
       "    <tr style=\"text-align: right;\">\n",
       "      <th></th>\n",
       "      <th>domain</th>\n",
       "      <th>dga</th>\n",
       "    </tr>\n",
       "  </thead>\n",
       "  <tbody>\n",
       "    <tr>\n",
       "      <th>57569</th>\n",
       "      <td>a94421b9c998056fb42456ad25ea55bfb9.hk</td>\n",
       "      <td>Domain used by dyre DGA for 26 Jun 2018</td>\n",
       "    </tr>\n",
       "    <tr>\n",
       "      <th>171315</th>\n",
       "      <td>wjb92vcerh.net</td>\n",
       "      <td>Domain used by shiotob/urlzone/bebloh DGA - no...</td>\n",
       "    </tr>\n",
       "    <tr>\n",
       "      <th>267753</th>\n",
       "      <td>vhnvvwx.net</td>\n",
       "      <td>Domain used by pykspa (varying date seeds)</td>\n",
       "    </tr>\n",
       "    <tr>\n",
       "      <th>250789</th>\n",
       "      <td>csyyhnyiwejluy.su</td>\n",
       "      <td>Domain used by ranbyus (uses previous 31 days ...</td>\n",
       "    </tr>\n",
       "    <tr>\n",
       "      <th>154897</th>\n",
       "      <td>ypuyuvscckuc.pw</td>\n",
       "      <td>Domain used by tinba DGA for 25 Jun 2018</td>\n",
       "    </tr>\n",
       "  </tbody>\n",
       "</table>\n",
       "</div>"
      ],
      "text/plain": [
       "                                       domain  \\\n",
       "57569   a94421b9c998056fb42456ad25ea55bfb9.hk   \n",
       "171315                         wjb92vcerh.net   \n",
       "267753                            vhnvvwx.net   \n",
       "250789                      csyyhnyiwejluy.su   \n",
       "154897                        ypuyuvscckuc.pw   \n",
       "\n",
       "                                                      dga  \n",
       "57569             Domain used by dyre DGA for 26 Jun 2018  \n",
       "171315  Domain used by shiotob/urlzone/bebloh DGA - no...  \n",
       "267753         Domain used by pykspa (varying date seeds)  \n",
       "250789  Domain used by ranbyus (uses previous 31 days ...  \n",
       "154897           Domain used by tinba DGA for 25 Jun 2018  "
      ]
     },
     "metadata": {},
     "output_type": "display_data"
    },
    {
     "data": {
      "text/plain": [
       "'DGA feed sample: (852819, 2)'"
      ]
     },
     "metadata": {},
     "output_type": "display_data"
    },
    {
     "data": {
      "text/html": [
       "<div>\n",
       "<style scoped>\n",
       "    .dataframe tbody tr th:only-of-type {\n",
       "        vertical-align: middle;\n",
       "    }\n",
       "\n",
       "    .dataframe tbody tr th {\n",
       "        vertical-align: top;\n",
       "    }\n",
       "\n",
       "    .dataframe thead th {\n",
       "        text-align: right;\n",
       "    }\n",
       "</style>\n",
       "<table border=\"1\" class=\"dataframe\">\n",
       "  <thead>\n",
       "    <tr style=\"text-align: right;\">\n",
       "      <th></th>\n",
       "      <th>domain</th>\n",
       "      <th>dga</th>\n",
       "    </tr>\n",
       "  </thead>\n",
       "  <tbody>\n",
       "    <tr>\n",
       "      <th>226102</th>\n",
       "      <td>csbdllaabettingk.com</td>\n",
       "      <td>Domain used by banjori - not date seeded</td>\n",
       "    </tr>\n",
       "    <tr>\n",
       "      <th>435079</th>\n",
       "      <td>pdfnalitydevonianizuwb.com</td>\n",
       "      <td>Domain used by banjori - not date seeded</td>\n",
       "    </tr>\n",
       "    <tr>\n",
       "      <th>586794</th>\n",
       "      <td>xzlvidablyhoosieraw.com</td>\n",
       "      <td>Domain used by banjori - not date seeded</td>\n",
       "    </tr>\n",
       "    <tr>\n",
       "      <th>620903</th>\n",
       "      <td>zzznsemitismgavenuteq.com</td>\n",
       "      <td>Domain used by banjori - not date seeded</td>\n",
       "    </tr>\n",
       "    <tr>\n",
       "      <th>489670</th>\n",
       "      <td>sgbsmachuslazaroqok.com</td>\n",
       "      <td>Domain used by banjori - not date seeded</td>\n",
       "    </tr>\n",
       "  </tbody>\n",
       "</table>\n",
       "</div>"
      ],
      "text/plain": [
       "                            domain                                       dga\n",
       "226102        csbdllaabettingk.com  Domain used by banjori - not date seeded\n",
       "435079  pdfnalitydevonianizuwb.com  Domain used by banjori - not date seeded\n",
       "586794     xzlvidablyhoosieraw.com  Domain used by banjori - not date seeded\n",
       "620903   zzznsemitismgavenuteq.com  Domain used by banjori - not date seeded\n",
       "489670     sgbsmachuslazaroqok.com  Domain used by banjori - not date seeded"
      ]
     },
     "metadata": {},
     "output_type": "display_data"
    }
   ],
   "source": [
    "# Remove unused columns, add output label 'dga'\n",
    "\n",
    "dga_df_slim =   dga_df.drop(columns=range(2,dga_df.shape[1]), inplace=False)\n",
    "dga_df_slim.columns = ['domain', 'dga']\n",
    "dga_all_df_slim =   dga_all_df.drop(columns=range(2,dga_all_df.shape[1]), inplace=False)\n",
    "dga_all_df_slim.columns = ['domain', 'dga']\n",
    "\n",
    "cisco_df_slim = cisco_df.drop(columns=[0], inplace=False)\n",
    "cisco_df_slim.columns = ['domain']\n",
    "cisco_df_slim['dga'] = 'nonDGA'\n",
    "\n",
    "display_df(dga_df_slim, None, 'sample5')\n",
    "display_df(dga_all_df_slim, None, 'sample5')"
   ]
  },
  {
   "cell_type": "code",
   "execution_count": 7,
   "metadata": {},
   "outputs": [],
   "source": [
    "SUFFIXES = [' DGA', ' (', ' -']\n",
    "\n",
    "\"\"\" Extract the DGA categories from the description string \"\"\"\n",
    "def strip_cat(input_str_row, lstrip_str=\"Domain used by \", rtrunc_str=SUFFIXES, verbose=False):\n",
    "    if verbose:\n",
    "        print('-'*50, '\\nInput:    ', input_str_row['dga'])\n",
    "    str1 = input_str_row['dga'].replace(lstrip_str, '')\n",
    "    if verbose:\n",
    "        print('Lstrip:   ', str1)\n",
    "    str2 = str1\n",
    "    for i in rtrunc_str:\n",
    "        idx = str2.find(i)\n",
    "        if idx != -1:\n",
    "            str2 = str2[0:idx]\n",
    "            if verbose:\n",
    "                print('Trimmed:  ', str2)\n",
    "            break\n",
    "    return str2"
   ]
  },
  {
   "cell_type": "code",
   "execution_count": 8,
   "metadata": {
    "scrolled": false
   },
   "outputs": [
    {
     "data": {
      "text/plain": [
       "'DGA feed sample: (381953, 2)'"
      ]
     },
     "metadata": {},
     "output_type": "display_data"
    },
    {
     "data": {
      "text/html": [
       "<div>\n",
       "<style scoped>\n",
       "    .dataframe tbody tr th:only-of-type {\n",
       "        vertical-align: middle;\n",
       "    }\n",
       "\n",
       "    .dataframe tbody tr th {\n",
       "        vertical-align: top;\n",
       "    }\n",
       "\n",
       "    .dataframe thead th {\n",
       "        text-align: right;\n",
       "    }\n",
       "</style>\n",
       "<table border=\"1\" class=\"dataframe\">\n",
       "  <thead>\n",
       "    <tr style=\"text-align: right;\">\n",
       "      <th></th>\n",
       "      <th>domain</th>\n",
       "      <th>dga</th>\n",
       "    </tr>\n",
       "  </thead>\n",
       "  <tbody>\n",
       "    <tr>\n",
       "      <th>57569</th>\n",
       "      <td>a94421b9c998056fb42456ad25ea55bfb9.hk</td>\n",
       "      <td>dyre</td>\n",
       "    </tr>\n",
       "    <tr>\n",
       "      <th>171315</th>\n",
       "      <td>wjb92vcerh.net</td>\n",
       "      <td>shiotob/urlzone/bebloh</td>\n",
       "    </tr>\n",
       "    <tr>\n",
       "      <th>267753</th>\n",
       "      <td>vhnvvwx.net</td>\n",
       "      <td>pykspa</td>\n",
       "    </tr>\n",
       "    <tr>\n",
       "      <th>250789</th>\n",
       "      <td>csyyhnyiwejluy.su</td>\n",
       "      <td>ranbyus</td>\n",
       "    </tr>\n",
       "    <tr>\n",
       "      <th>154897</th>\n",
       "      <td>ypuyuvscckuc.pw</td>\n",
       "      <td>tinba</td>\n",
       "    </tr>\n",
       "  </tbody>\n",
       "</table>\n",
       "</div>"
      ],
      "text/plain": [
       "                                       domain                     dga\n",
       "57569   a94421b9c998056fb42456ad25ea55bfb9.hk                    dyre\n",
       "171315                         wjb92vcerh.net  shiotob/urlzone/bebloh\n",
       "267753                            vhnvvwx.net                  pykspa\n",
       "250789                      csyyhnyiwejluy.su                 ranbyus\n",
       "154897                        ypuyuvscckuc.pw                   tinba"
      ]
     },
     "metadata": {},
     "output_type": "display_data"
    },
    {
     "data": {
      "text/plain": [
       "'DGA feed sample: (852819, 2)'"
      ]
     },
     "metadata": {},
     "output_type": "display_data"
    },
    {
     "data": {
      "text/html": [
       "<div>\n",
       "<style scoped>\n",
       "    .dataframe tbody tr th:only-of-type {\n",
       "        vertical-align: middle;\n",
       "    }\n",
       "\n",
       "    .dataframe tbody tr th {\n",
       "        vertical-align: top;\n",
       "    }\n",
       "\n",
       "    .dataframe thead th {\n",
       "        text-align: right;\n",
       "    }\n",
       "</style>\n",
       "<table border=\"1\" class=\"dataframe\">\n",
       "  <thead>\n",
       "    <tr style=\"text-align: right;\">\n",
       "      <th></th>\n",
       "      <th>domain</th>\n",
       "      <th>dga</th>\n",
       "    </tr>\n",
       "  </thead>\n",
       "  <tbody>\n",
       "    <tr>\n",
       "      <th>226102</th>\n",
       "      <td>csbdllaabettingk.com</td>\n",
       "      <td>banjori</td>\n",
       "    </tr>\n",
       "    <tr>\n",
       "      <th>435079</th>\n",
       "      <td>pdfnalitydevonianizuwb.com</td>\n",
       "      <td>banjori</td>\n",
       "    </tr>\n",
       "    <tr>\n",
       "      <th>586794</th>\n",
       "      <td>xzlvidablyhoosieraw.com</td>\n",
       "      <td>banjori</td>\n",
       "    </tr>\n",
       "    <tr>\n",
       "      <th>620903</th>\n",
       "      <td>zzznsemitismgavenuteq.com</td>\n",
       "      <td>banjori</td>\n",
       "    </tr>\n",
       "    <tr>\n",
       "      <th>489670</th>\n",
       "      <td>sgbsmachuslazaroqok.com</td>\n",
       "      <td>banjori</td>\n",
       "    </tr>\n",
       "  </tbody>\n",
       "</table>\n",
       "</div>"
      ],
      "text/plain": [
       "                            domain      dga\n",
       "226102        csbdllaabettingk.com  banjori\n",
       "435079  pdfnalitydevonianizuwb.com  banjori\n",
       "586794     xzlvidablyhoosieraw.com  banjori\n",
       "620903   zzznsemitismgavenuteq.com  banjori\n",
       "489670     sgbsmachuslazaroqok.com  banjori"
      ]
     },
     "metadata": {},
     "output_type": "display_data"
    }
   ],
   "source": [
    "# Trim description down to the DGA category names\n",
    "\n",
    "verbosity = False\n",
    "\n",
    "dga_df_slim['dga'] = dga_df_slim.apply(lambda row: strip_cat(row, verbose=verbosity), axis=1)\n",
    "dga_all_df_slim['dga'] = dga_all_df_slim.apply(lambda row: strip_cat(row, verbose=verbosity), axis=1)\n",
    "\n",
    "display_df(dga_df_slim, None, 'sample5')\n",
    "display_df(dga_all_df_slim, None, 'sample5')\n"
   ]
  },
  {
   "cell_type": "code",
   "execution_count": 9,
   "metadata": {},
   "outputs": [
    {
     "name": "stdout",
     "output_type": "stream",
     "text": [
      "Categories of DGA domains: 43\n",
      "\n",
      "['Cryptolocker - Flashback', 'Post Tovar GOZ', 'geodo', 'dyre', 'corebot', 'symmi', 'padcrypt', 'locky', 'tinba', 'pushdo', 'P2P Gameover Zeus', 'shiotob/urlzone/bebloh', 'hesperbot', 'cryptowall', 'ramnit', 'dircrypt', 'ranbyus', 'pykspa', 'murofet', 'Volatile Cedar / Explosive', 'beebone', 'bedep', 'fobber', 'necurs', 'qakbot', 'tempedreve', 'ramdo', 'kraken', 'bamital', 'vawtrak', 'sisron', 'chinad', 'gozi', 'sphinx', 'proslikefan', 'vidro', 'madmax', 'dromedan', 'g01', 'pandabanker', 'mirai', 'unknownjs', 'unknowndropper']\n",
      "\n",
      "Total output classes will be: 44\n",
      "\n"
     ]
    }
   ],
   "source": [
    "# Extract unique DGA categories\n",
    "\n",
    "categories = list(dga_df_slim['dga'].unique())\n",
    "print(\"Categories of DGA domains: {}\\n\".format(len(categories)))\n",
    "print(categories)\n",
    "categories.append('nonDGA')\n",
    "print(\"\\nTotal output classes will be: {}\\n\".format(len(categories)))\n",
    "num_categories = len(categories)"
   ]
  },
  {
   "cell_type": "code",
   "execution_count": 10,
   "metadata": {},
   "outputs": [
    {
     "name": "stdout",
     "output_type": "stream",
     "text": [
      "Categories of DGA domains in non-high confidence feed: 52\n",
      "\n",
      "['Cryptolocker - Flashback', 'Post Tovar GOZ', 'geodo', 'dyre', 'corebot', 'symmi', 'nymaim', 'padcrypt', 'virut', 'locky', 'matsnu', 'tinba', 'pushdo', 'P2P Gameover Zeus', 'shifu', 'shiotob/urlzone/bebloh', 'banjori', 'hesperbot', 'cryptowall', 'ramnit', 'dircrypt', 'ranbyus', 'simda', 'pykspa', 'murofet', 'Volatile Cedar / Explosive', 'beebone', 'bedep', 'suppobox', 'fobber', 'necurs', 'qakbot', 'tempedreve', 'ramdo', 'kraken', 'bamital', 'vawtrak', 'sisron', 'chinad', 'gozi', 'sphinx', 'proslikefan', 'vidro', 'madmax', 'dromedan', 'g01', 'pandabanker', 'pizd', 'mirai', 'tofsee', 'unknownjs', 'unknowndropper']\n",
      "\n",
      "Total output classes will be: 53\n",
      "\n"
     ]
    }
   ],
   "source": [
    "# Extract unique DGA categories on DGA non-high feed\n",
    "\n",
    "categoriesNHC = list(dga_all_df_slim['dga'].unique())\n",
    "print(\"Categories of DGA domains in non-high confidence feed: {}\\n\".format(len(categoriesNHC)))\n",
    "print(categoriesNHC)\n",
    "categoriesNHC.append('nonDGA')\n",
    "print(\"\\nTotal output classes will be: {}\\n\".format(len(categoriesNHC)))\n",
    "num_categoriesNHC = len(categoriesNHC)"
   ]
  },
  {
   "cell_type": "code",
   "execution_count": 11,
   "metadata": {},
   "outputs": [
    {
     "name": "stdout",
     "output_type": "stream",
     "text": [
      "New UNSEEEN categories in NHC feed:  {'simda', 'shifu', 'suppobox', 'banjori', 'pizd', 'matsnu', 'nymaim', 'tofsee', 'virut'}\n"
     ]
    }
   ],
   "source": [
    "# compare the two categories\n",
    "setHC = set(categories)\n",
    "setNHC = set(categoriesNHC)\n",
    "unseenCategories = setNHC - setHC\n",
    "print(\"New UNSEEEN categories in NHC feed: \", unseenCategories)"
   ]
  },
  {
   "cell_type": "code",
   "execution_count": 12,
   "metadata": {},
   "outputs": [
    {
     "name": "stdout",
     "output_type": "stream",
     "text": [
      "\n",
      "Fraction of Most frequent categories in HC (training) feed:"
     ]
    },
    {
     "data": {
      "text/html": [
       "<div>\n",
       "<style scoped>\n",
       "    .dataframe tbody tr th:only-of-type {\n",
       "        vertical-align: middle;\n",
       "    }\n",
       "\n",
       "    .dataframe tbody tr th {\n",
       "        vertical-align: top;\n",
       "    }\n",
       "\n",
       "    .dataframe thead th {\n",
       "        text-align: right;\n",
       "    }\n",
       "</style>\n",
       "<table border=\"1\" class=\"dataframe\">\n",
       "  <thead>\n",
       "    <tr style=\"text-align: right;\">\n",
       "      <th></th>\n",
       "      <th>dga</th>\n",
       "    </tr>\n",
       "  </thead>\n",
       "  <tbody>\n",
       "    <tr>\n",
       "      <th>tinba</th>\n",
       "      <td>0.174597</td>\n",
       "    </tr>\n",
       "    <tr>\n",
       "      <th>Post Tovar GOZ</th>\n",
       "      <td>0.172796</td>\n",
       "    </tr>\n",
       "    <tr>\n",
       "      <th>ramnit</th>\n",
       "      <td>0.147070</td>\n",
       "    </tr>\n",
       "    <tr>\n",
       "      <th>necurs</th>\n",
       "      <td>0.112600</td>\n",
       "    </tr>\n",
       "    <tr>\n",
       "      <th>murofet</th>\n",
       "      <td>0.074669</td>\n",
       "    </tr>\n",
       "  </tbody>\n",
       "</table>\n",
       "</div>"
      ],
      "text/plain": [
       "                     dga\n",
       "tinba           0.174597\n",
       "Post Tovar GOZ  0.172796\n",
       "ramnit          0.147070\n",
       "necurs          0.112600\n",
       "murofet         0.074669"
      ]
     },
     "metadata": {},
     "output_type": "display_data"
    },
    {
     "name": "stdout",
     "output_type": "stream",
     "text": [
      "\n",
      "Fraction of Least frequent categories in HC (training) feed:"
     ]
    },
    {
     "data": {
      "text/html": [
       "<div>\n",
       "<style scoped>\n",
       "    .dataframe tbody tr th:only-of-type {\n",
       "        vertical-align: middle;\n",
       "    }\n",
       "\n",
       "    .dataframe tbody tr th {\n",
       "        vertical-align: top;\n",
       "    }\n",
       "\n",
       "    .dataframe thead th {\n",
       "        text-align: right;\n",
       "    }\n",
       "</style>\n",
       "<table border=\"1\" class=\"dataframe\">\n",
       "  <thead>\n",
       "    <tr style=\"text-align: right;\">\n",
       "      <th></th>\n",
       "      <th>dga</th>\n",
       "    </tr>\n",
       "  </thead>\n",
       "  <tbody>\n",
       "    <tr>\n",
       "      <th>gozi</th>\n",
       "      <td>0.000063</td>\n",
       "    </tr>\n",
       "    <tr>\n",
       "      <th>mirai</th>\n",
       "      <td>0.000008</td>\n",
       "    </tr>\n",
       "    <tr>\n",
       "      <th>dromedan</th>\n",
       "      <td>0.000005</td>\n",
       "    </tr>\n",
       "    <tr>\n",
       "      <th>madmax</th>\n",
       "      <td>0.000003</td>\n",
       "    </tr>\n",
       "    <tr>\n",
       "      <th>g01</th>\n",
       "      <td>0.000003</td>\n",
       "    </tr>\n",
       "  </tbody>\n",
       "</table>\n",
       "</div>"
      ],
      "text/plain": [
       "               dga\n",
       "gozi      0.000063\n",
       "mirai     0.000008\n",
       "dromedan  0.000005\n",
       "madmax    0.000003\n",
       "g01       0.000003"
      ]
     },
     "metadata": {},
     "output_type": "display_data"
    }
   ],
   "source": [
    "# Check skewness in the dataset with respect to DGA categories\n",
    "\n",
    "counts = dga_df_slim['dga'].value_counts(normalize=True).to_frame()\n",
    "print(\"\\nFraction of Most frequent categories in HC (training) feed:\", end='')\n",
    "display(counts.head())\n",
    "print(\"\\nFraction of Least frequent categories in HC (training) feed:\", end='')\n",
    "display(counts.tail())\n"
   ]
  },
  {
   "cell_type": "markdown",
   "metadata": {},
   "source": [
    "The above data shows heavy skew and is highly imbalanced for more than half the lower DGA categories in the sorted list. This might affect the training and prediction of the model for these categories."
   ]
  },
  {
   "cell_type": "code",
   "execution_count": 13,
   "metadata": {},
   "outputs": [
    {
     "name": "stdout",
     "output_type": "stream",
     "text": [
      "\n",
      "Fraction of unseen categories in NHC feed:"
     ]
    },
    {
     "data": {
      "text/html": [
       "<div>\n",
       "<style scoped>\n",
       "    .dataframe tbody tr th:only-of-type {\n",
       "        vertical-align: middle;\n",
       "    }\n",
       "\n",
       "    .dataframe tbody tr th {\n",
       "        vertical-align: top;\n",
       "    }\n",
       "\n",
       "    .dataframe thead th {\n",
       "        text-align: right;\n",
       "    }\n",
       "</style>\n",
       "<table border=\"1\" class=\"dataframe\">\n",
       "  <thead>\n",
       "    <tr style=\"text-align: right;\">\n",
       "      <th></th>\n",
       "      <th>dga</th>\n",
       "    </tr>\n",
       "  </thead>\n",
       "  <tbody>\n",
       "    <tr>\n",
       "      <th>simda</th>\n",
       "      <td>0.017301</td>\n",
       "    </tr>\n",
       "    <tr>\n",
       "      <th>shifu</th>\n",
       "      <td>0.002733</td>\n",
       "    </tr>\n",
       "    <tr>\n",
       "      <th>suppobox</th>\n",
       "      <td>0.001189</td>\n",
       "    </tr>\n",
       "    <tr>\n",
       "      <th>banjori</th>\n",
       "      <td>0.515025</td>\n",
       "    </tr>\n",
       "    <tr>\n",
       "      <th>pizd</th>\n",
       "      <td>0.000598</td>\n",
       "    </tr>\n",
       "    <tr>\n",
       "      <th>matsnu</th>\n",
       "      <td>0.000056</td>\n",
       "    </tr>\n",
       "    <tr>\n",
       "      <th>nymaim</th>\n",
       "      <td>0.007035</td>\n",
       "    </tr>\n",
       "    <tr>\n",
       "      <th>tofsee</th>\n",
       "      <td>0.000047</td>\n",
       "    </tr>\n",
       "    <tr>\n",
       "      <th>virut</th>\n",
       "      <td>0.000704</td>\n",
       "    </tr>\n",
       "  </tbody>\n",
       "</table>\n",
       "</div>"
      ],
      "text/plain": [
       "               dga\n",
       "simda     0.017301\n",
       "shifu     0.002733\n",
       "suppobox  0.001189\n",
       "banjori   0.515025\n",
       "pizd      0.000598\n",
       "matsnu    0.000056\n",
       "nymaim    0.007035\n",
       "tofsee    0.000047\n",
       "virut     0.000704"
      ]
     },
     "metadata": {},
     "output_type": "display_data"
    }
   ],
   "source": [
    "# Check the counts of new categories if any, in NHC feed\n",
    "countsNHC = dga_all_df_slim['dga'].value_counts(normalize=True).to_frame()\n",
    "print(\"\\nFraction of unseen categories in NHC feed:\", end='')\n",
    "display(countsNHC.loc[list(unseenCategories),:])\n"
   ]
  },
  {
   "cell_type": "code",
   "execution_count": 11,
   "metadata": {},
   "outputs": [],
   "source": [
    "THRESHOLD_COUNT = 50                     # lower count limit beyond which categories are merged together\n",
    "MERGED_CAT_STR = 'mergedDGA'             # name of merged category\n",
    "\n",
    "MERGED_CAT_LIST = []\n",
    "\"\"\" Trim down the categories that have sparse data, and merge them into one \"\"\"\n",
    "def trim_categories(input_row, threshold=THRESHOLD_COUNT):\n",
    "    if input_row['dga'] < threshold:\n",
    "        newcat = MERGED_CAT_STR\n",
    "        MERGED_CAT_LIST.append(input_row.name)\n",
    "    else:\n",
    "        newcat = input_row.name\n",
    "    return newcat\n"
   ]
  },
  {
   "cell_type": "code",
   "execution_count": 12,
   "metadata": {
    "scrolled": false
   },
   "outputs": [
    {
     "name": "stdout",
     "output_type": "stream",
     "text": [
      "Merged categories:  ['pandabanker', 'gozi', 'mirai', 'dromedan', 'g01', 'madmax']\n"
     ]
    },
    {
     "data": {
      "text/html": [
       "<div>\n",
       "<style scoped>\n",
       "    .dataframe tbody tr th:only-of-type {\n",
       "        vertical-align: middle;\n",
       "    }\n",
       "\n",
       "    .dataframe tbody tr th {\n",
       "        vertical-align: top;\n",
       "    }\n",
       "\n",
       "    .dataframe thead th {\n",
       "        text-align: right;\n",
       "    }\n",
       "</style>\n",
       "<table border=\"1\" class=\"dataframe\">\n",
       "  <thead>\n",
       "    <tr style=\"text-align: right;\">\n",
       "      <th></th>\n",
       "      <th>dga</th>\n",
       "      <th>newCat</th>\n",
       "    </tr>\n",
       "  </thead>\n",
       "  <tbody>\n",
       "    <tr>\n",
       "      <th>tinba</th>\n",
       "      <td>66688</td>\n",
       "      <td>tinba</td>\n",
       "    </tr>\n",
       "    <tr>\n",
       "      <th>Post Tovar GOZ</th>\n",
       "      <td>66000</td>\n",
       "      <td>Post Tovar GOZ</td>\n",
       "    </tr>\n",
       "    <tr>\n",
       "      <th>ramnit</th>\n",
       "      <td>56174</td>\n",
       "      <td>ramnit</td>\n",
       "    </tr>\n",
       "    <tr>\n",
       "      <th>necurs</th>\n",
       "      <td>43008</td>\n",
       "      <td>necurs</td>\n",
       "    </tr>\n",
       "    <tr>\n",
       "      <th>murofet</th>\n",
       "      <td>28520</td>\n",
       "      <td>murofet</td>\n",
       "    </tr>\n",
       "    <tr>\n",
       "      <th>ranbyus</th>\n",
       "      <td>26040</td>\n",
       "      <td>ranbyus</td>\n",
       "    </tr>\n",
       "    <tr>\n",
       "      <th>qakbot</th>\n",
       "      <td>20000</td>\n",
       "      <td>qakbot</td>\n",
       "    </tr>\n",
       "    <tr>\n",
       "      <th>pykspa</th>\n",
       "      <td>14215</td>\n",
       "      <td>pykspa</td>\n",
       "    </tr>\n",
       "    <tr>\n",
       "      <th>shiotob/urlzone/bebloh</th>\n",
       "      <td>12521</td>\n",
       "      <td>shiotob/urlzone/bebloh</td>\n",
       "    </tr>\n",
       "    <tr>\n",
       "      <th>kraken</th>\n",
       "      <td>8988</td>\n",
       "      <td>kraken</td>\n",
       "    </tr>\n",
       "    <tr>\n",
       "      <th>locky</th>\n",
       "      <td>8028</td>\n",
       "      <td>locky</td>\n",
       "    </tr>\n",
       "    <tr>\n",
       "      <th>dyre</th>\n",
       "      <td>7998</td>\n",
       "      <td>dyre</td>\n",
       "    </tr>\n",
       "    <tr>\n",
       "      <th>Cryptolocker - Flashback</th>\n",
       "      <td>6000</td>\n",
       "      <td>Cryptolocker - Flashback</td>\n",
       "    </tr>\n",
       "    <tr>\n",
       "      <th>vawtrak</th>\n",
       "      <td>3150</td>\n",
       "      <td>vawtrak</td>\n",
       "    </tr>\n",
       "    <tr>\n",
       "      <th>P2P Gameover Zeus</th>\n",
       "      <td>2000</td>\n",
       "      <td>P2P Gameover Zeus</td>\n",
       "    </tr>\n",
       "    <tr>\n",
       "      <th>ramdo</th>\n",
       "      <td>2000</td>\n",
       "      <td>ramdo</td>\n",
       "    </tr>\n",
       "    <tr>\n",
       "      <th>pushdo</th>\n",
       "      <td>1680</td>\n",
       "      <td>pushdo</td>\n",
       "    </tr>\n",
       "    <tr>\n",
       "      <th>chinad</th>\n",
       "      <td>1536</td>\n",
       "      <td>chinad</td>\n",
       "    </tr>\n",
       "    <tr>\n",
       "      <th>Volatile Cedar / Explosive</th>\n",
       "      <td>996</td>\n",
       "      <td>Volatile Cedar / Explosive</td>\n",
       "    </tr>\n",
       "    <tr>\n",
       "      <th>proslikefan</th>\n",
       "      <td>780</td>\n",
       "      <td>proslikefan</td>\n",
       "    </tr>\n",
       "    <tr>\n",
       "      <th>sphinx</th>\n",
       "      <td>768</td>\n",
       "      <td>sphinx</td>\n",
       "    </tr>\n",
       "    <tr>\n",
       "      <th>dircrypt</th>\n",
       "      <td>720</td>\n",
       "      <td>dircrypt</td>\n",
       "    </tr>\n",
       "    <tr>\n",
       "      <th>fobber</th>\n",
       "      <td>600</td>\n",
       "      <td>fobber</td>\n",
       "    </tr>\n",
       "    <tr>\n",
       "      <th>geodo</th>\n",
       "      <td>576</td>\n",
       "      <td>geodo</td>\n",
       "    </tr>\n",
       "    <tr>\n",
       "      <th>padcrypt</th>\n",
       "      <td>576</td>\n",
       "      <td>padcrypt</td>\n",
       "    </tr>\n",
       "    <tr>\n",
       "      <th>symmi</th>\n",
       "      <td>384</td>\n",
       "      <td>symmi</td>\n",
       "    </tr>\n",
       "    <tr>\n",
       "      <th>corebot</th>\n",
       "      <td>280</td>\n",
       "      <td>corebot</td>\n",
       "    </tr>\n",
       "    <tr>\n",
       "      <th>tempedreve</th>\n",
       "      <td>249</td>\n",
       "      <td>tempedreve</td>\n",
       "    </tr>\n",
       "    <tr>\n",
       "      <th>bamital</th>\n",
       "      <td>240</td>\n",
       "      <td>bamital</td>\n",
       "    </tr>\n",
       "    <tr>\n",
       "      <th>beebone</th>\n",
       "      <td>210</td>\n",
       "      <td>beebone</td>\n",
       "    </tr>\n",
       "    <tr>\n",
       "      <th>vidro</th>\n",
       "      <td>200</td>\n",
       "      <td>vidro</td>\n",
       "    </tr>\n",
       "    <tr>\n",
       "      <th>hesperbot</th>\n",
       "      <td>192</td>\n",
       "      <td>hesperbot</td>\n",
       "    </tr>\n",
       "    <tr>\n",
       "      <th>unknownjs</th>\n",
       "      <td>180</td>\n",
       "      <td>unknownjs</td>\n",
       "    </tr>\n",
       "    <tr>\n",
       "      <th>bedep</th>\n",
       "      <td>178</td>\n",
       "      <td>bedep</td>\n",
       "    </tr>\n",
       "    <tr>\n",
       "      <th>cryptowall</th>\n",
       "      <td>94</td>\n",
       "      <td>cryptowall</td>\n",
       "    </tr>\n",
       "    <tr>\n",
       "      <th>sisron</th>\n",
       "      <td>60</td>\n",
       "      <td>sisron</td>\n",
       "    </tr>\n",
       "    <tr>\n",
       "      <th>unknowndropper</th>\n",
       "      <td>60</td>\n",
       "      <td>unknowndropper</td>\n",
       "    </tr>\n",
       "    <tr>\n",
       "      <th>pandabanker</th>\n",
       "      <td>33</td>\n",
       "      <td>mergedDGA</td>\n",
       "    </tr>\n",
       "    <tr>\n",
       "      <th>gozi</th>\n",
       "      <td>24</td>\n",
       "      <td>mergedDGA</td>\n",
       "    </tr>\n",
       "    <tr>\n",
       "      <th>mirai</th>\n",
       "      <td>3</td>\n",
       "      <td>mergedDGA</td>\n",
       "    </tr>\n",
       "    <tr>\n",
       "      <th>dromedan</th>\n",
       "      <td>2</td>\n",
       "      <td>mergedDGA</td>\n",
       "    </tr>\n",
       "    <tr>\n",
       "      <th>g01</th>\n",
       "      <td>1</td>\n",
       "      <td>mergedDGA</td>\n",
       "    </tr>\n",
       "    <tr>\n",
       "      <th>madmax</th>\n",
       "      <td>1</td>\n",
       "      <td>mergedDGA</td>\n",
       "    </tr>\n",
       "  </tbody>\n",
       "</table>\n",
       "</div>"
      ],
      "text/plain": [
       "                              dga                      newCat\n",
       "tinba                       66688                       tinba\n",
       "Post Tovar GOZ              66000              Post Tovar GOZ\n",
       "ramnit                      56174                      ramnit\n",
       "necurs                      43008                      necurs\n",
       "murofet                     28520                     murofet\n",
       "ranbyus                     26040                     ranbyus\n",
       "qakbot                      20000                      qakbot\n",
       "pykspa                      14215                      pykspa\n",
       "shiotob/urlzone/bebloh      12521      shiotob/urlzone/bebloh\n",
       "kraken                       8988                      kraken\n",
       "locky                        8028                       locky\n",
       "dyre                         7998                        dyre\n",
       "Cryptolocker - Flashback     6000    Cryptolocker - Flashback\n",
       "vawtrak                      3150                     vawtrak\n",
       "P2P Gameover Zeus            2000           P2P Gameover Zeus\n",
       "ramdo                        2000                       ramdo\n",
       "pushdo                       1680                      pushdo\n",
       "chinad                       1536                      chinad\n",
       "Volatile Cedar / Explosive    996  Volatile Cedar / Explosive\n",
       "proslikefan                   780                 proslikefan\n",
       "sphinx                        768                      sphinx\n",
       "dircrypt                      720                    dircrypt\n",
       "fobber                        600                      fobber\n",
       "geodo                         576                       geodo\n",
       "padcrypt                      576                    padcrypt\n",
       "symmi                         384                       symmi\n",
       "corebot                       280                     corebot\n",
       "tempedreve                    249                  tempedreve\n",
       "bamital                       240                     bamital\n",
       "beebone                       210                     beebone\n",
       "vidro                         200                       vidro\n",
       "hesperbot                     192                   hesperbot\n",
       "unknownjs                     180                   unknownjs\n",
       "bedep                         178                       bedep\n",
       "cryptowall                     94                  cryptowall\n",
       "sisron                         60                      sisron\n",
       "unknowndropper                 60              unknowndropper\n",
       "pandabanker                    33                   mergedDGA\n",
       "gozi                           24                   mergedDGA\n",
       "mirai                           3                   mergedDGA\n",
       "dromedan                        2                   mergedDGA\n",
       "g01                             1                   mergedDGA\n",
       "madmax                          1                   mergedDGA"
      ]
     },
     "metadata": {},
     "output_type": "display_data"
    }
   ],
   "source": [
    "counts['newCat'] = counts.apply(trim_categories, axis=1)\n",
    "print(\"Merged categories: \", MERGED_CAT_LIST)\n",
    "display(counts)"
   ]
  },
  {
   "cell_type": "code",
   "execution_count": 13,
   "metadata": {},
   "outputs": [],
   "source": [
    "# Update DGA frame with new categories\n",
    "\n",
    "def update_categories(input_row):\n",
    "    if input_row['dga'] in MERGED_CAT_LIST:\n",
    "        return MERGED_CAT_STR\n",
    "    else:\n",
    "        return input_row['dga']\n",
    "\n",
    "dga_df_slim['dga'] = dga_df_slim.apply(update_categories, axis=1)\n"
   ]
  },
  {
   "cell_type": "code",
   "execution_count": 14,
   "metadata": {},
   "outputs": [
    {
     "data": {
      "text/plain": [
       "array(['Cryptolocker - Flashback', 'Post Tovar GOZ', 'geodo', 'dyre',\n",
       "       'corebot', 'symmi', 'padcrypt', 'locky', 'tinba', 'pushdo',\n",
       "       'P2P Gameover Zeus', 'shiotob/urlzone/bebloh', 'hesperbot',\n",
       "       'cryptowall', 'ramnit', 'dircrypt', 'ranbyus', 'pykspa', 'murofet',\n",
       "       'Volatile Cedar / Explosive', 'beebone', 'bedep', 'fobber',\n",
       "       'necurs', 'qakbot', 'tempedreve', 'ramdo', 'kraken', 'bamital',\n",
       "       'vawtrak', 'sisron', 'chinad', 'mergedDGA', 'sphinx',\n",
       "       'proslikefan', 'vidro', 'unknownjs', 'unknowndropper'],\n",
       "      dtype=object)"
      ]
     },
     "metadata": {},
     "output_type": "display_data"
    }
   ],
   "source": [
    "display(dga_df_slim['dga'].unique())"
   ]
  },
  {
   "cell_type": "code",
   "execution_count": 15,
   "metadata": {},
   "outputs": [],
   "source": [
    "# Combine DGA/nonDGA dataframes, and factorize categories (mapping to integer indices)\n",
    "\n",
    "unified_df = pd.concat([cisco_df_slim, dga_df_slim], ignore_index=True)\n",
    "temp_df = unified_df.copy()\n",
    "unified_df['catIndex'], labels = pd.factorize(unified_df['dga'], sort=True)"
   ]
  },
  {
   "cell_type": "code",
   "execution_count": 16,
   "metadata": {},
   "outputs": [],
   "source": [
    "# Separate input sequences (domains) and output labels (DGA 0/1), and do train/test split\n",
    "\n",
    "X = unified_df['domain']\n",
    "Y = unified_df['catIndex']\n",
    "X_train, X_test, Y_train, Y_test = train_test_split(X, Y, test_size=0.2,random_state=23)\n",
    "Y_train_binarized = to_categorical(Y_train, num_classes=num_categories)"
   ]
  },
  {
   "cell_type": "code",
   "execution_count": 21,
   "metadata": {},
   "outputs": [
    {
     "name": "stdout",
     "output_type": "stream",
     "text": [
      "SKIPPED MODEL TRAINING.\n",
      "SAVED MODEL IS NOW LOADED!\n"
     ]
    }
   ],
   "source": [
    "# Multiclass LSTM model\n",
    "\n",
    "TRAIN_MODEL = False                                          # Load saved model otherwise\n",
    "max_features = 1000                                          # length of vocabulary\n",
    "batch_size = 128                                             # input batch size\n",
    "num_epochs = 5                                               # epochs to train\n",
    "num_labels = num_categories                                  # number of output classes\n",
    "    \n",
    "if TRAIN_MODEL != True:\n",
    "    file = open('.\\\\saved_models\\\\multiclass_LSTM.json', 'r')\n",
    "    model_load = file.read()\n",
    "    file.close()\n",
    "    model = model_from_json(model_load)\n",
    "    model.load_weights('.\\\\saved_models\\\\multiclass_LSTM.h5')\n",
    "    print('SKIPPED MODEL TRAINING.\\nSAVED MODEL IS NOW LOADED!')\n",
    "\n",
    "else:                                                        # train the model\n",
    "    # encode string characters to integers\n",
    "    encoder = text.Tokenizer(num_words=500, char_level=True)\n",
    "    encoder.fit_on_texts(X_train)                            # build character indices\n",
    "    X_train_tz = encoder.texts_to_sequences(X_train)\n",
    "    \n",
    "    # Model definition - this is the core model from Endgame\n",
    "    model=Sequential()\n",
    "    model.add(Embedding(max_features, 128, input_length=75))\n",
    "    model.add(LSTM(128))\n",
    "    model.add(Dropout(0.5))\n",
    "    model.add(Dense(num_labels))\n",
    "    model.add(Activation('softmax'))\n",
    "    model.compile(loss='categorical_crossentropy', optimizer='rmsprop')\n",
    "    \n",
    "    # Pad sequence where sequences are case insensitive characters encoded to\n",
    "    # integers from 0 to number of valid characters\n",
    "    X_train_pad=sequence.pad_sequences(X_train_tz, maxlen=75)\n",
    "    \n",
    "    # Train where Y_train is 0-1\n",
    "    model.fit(X_train_pad, Y_train_binarized, batch_size=batch_size, epochs=num_epochs)"
   ]
  },
  {
   "cell_type": "code",
   "execution_count": null,
   "metadata": {},
   "outputs": [],
   "source": [
    "# Validation on test dataset\n",
    "\n",
    "X_test_pad = sequence.pad_sequences(encoder.texts_to_sequences(X_test), maxlen=75)\n",
    "Y_pred = model.predict_classes(X_test_pad)"
   ]
  },
  {
   "cell_type": "code",
   "execution_count": null,
   "metadata": {},
   "outputs": [],
   "source": [
    "acc = accuracy_score(Y_test, Y_pred)\n",
    "print(\"Model's overall accuracy = {:8.3f} %\\n\".format(acc*100))\n",
    "metrics_report = classification_report(Y_test, Y_pred, target_names=labels)\n",
    "print(metrics_report)"
   ]
  },
  {
   "cell_type": "code",
   "execution_count": null,
   "metadata": {},
   "outputs": [],
   "source": [
    "# Save model and weights\n",
    "if TRAIN_MODEL == True:\n",
    "    model_save = model.to_json()\n",
    "    with open('.\\\\saved_models\\\\multiclass_LSTM.json', 'w') as file:\n",
    "        file.write(model_save)\n",
    "    model.save_weights('.\\\\saved_models\\\\multiclass_LSTM.h5')\n",
    "    print('MODEL SAVED TO DISK!')\n",
    "else:\n",
    "    print('MODEL AREADY SAVED TO DISK.')"
   ]
  },
  {
   "cell_type": "markdown",
   "metadata": {},
   "source": [
    "## Look ahead and next steps:\n",
    "__1__ Look closer at the misclassified domains. Any particular DGA category stands out? What do we need to improve? \n",
    "\n",
    "__2__ Improving classification accuracy - more balanced dataset especially for the multiclass classification.\n",
    "\n",
    "__3__ Learning from scratch takes significant time. Need to implement model update in batches of new domain dataset.\n",
    "\n",
    "__4__ We may get a dynamic dataset with more than 60 categories for example, and code need to step in and trim down the categories to an upper limit say 50 at max. Or this could be implemented as dropping off the categories with inadequate data available, say less than 1000 available domain names."
   ]
  },
  {
   "cell_type": "code",
   "execution_count": null,
   "metadata": {},
   "outputs": [],
   "source": []
  }
 ],
 "metadata": {
  "kernelspec": {
   "display_name": "Python 3",
   "language": "python",
   "name": "python3"
  },
  "language_info": {
   "codemirror_mode": {
    "name": "ipython",
    "version": 3
   },
   "file_extension": ".py",
   "mimetype": "text/x-python",
   "name": "python",
   "nbconvert_exporter": "python",
   "pygments_lexer": "ipython3",
   "version": "3.6.5"
  }
 },
 "nbformat": 4,
 "nbformat_minor": 2
}
