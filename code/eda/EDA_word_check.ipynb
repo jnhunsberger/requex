{
 "cells": [
  {
   "cell_type": "markdown",
   "metadata": {},
   "source": [
    "### Word segmentation analysis of DGA domains\n",
    "\n",
    "In this notebook, we've explored Natural Language Processing techniques to segment the domain labels further into smaller chunks of meaningful words, and see if some metrics based on such segmentation are able to show any appreciable difference between the DGA and non-DGA categories. "
   ]
  },
  {
   "cell_type": "code",
   "execution_count": 3,
   "metadata": {},
   "outputs": [],
   "source": [
    "import pandas as pd\n",
    "import numpy as np\n",
    "import string\n",
    "import matplotlib.pyplot as plt\n",
    "import re\n",
    "from wordfreq import zipf_frequency"
   ]
  },
  {
   "cell_type": "code",
   "execution_count": 4,
   "metadata": {},
   "outputs": [],
   "source": [
    "# read DGA and Cisco high confidence data\n",
    "dga_df = pd.read_csv('..\\\\data\\\\2018_0923\\\\dga-feed-high.csv', header=None, skiprows=15)\n",
    "cisco_df = pd.read_csv('..\\\\data\\\\2018_0923\\\\top-1m.csv', header=None)"
   ]
  },
  {
   "cell_type": "code",
   "execution_count": 5,
   "metadata": {},
   "outputs": [],
   "source": [
    "path_plots = '.\\\\plots'"
   ]
  },
  {
   "cell_type": "code",
   "execution_count": 6,
   "metadata": {},
   "outputs": [
    {
     "data": {
      "text/plain": [
       "'DGA feed sample: (381953, 4)'"
      ]
     },
     "metadata": {},
     "output_type": "display_data"
    },
    {
     "data": {
      "text/html": [
       "<div>\n",
       "<style scoped>\n",
       "    .dataframe tbody tr th:only-of-type {\n",
       "        vertical-align: middle;\n",
       "    }\n",
       "\n",
       "    .dataframe tbody tr th {\n",
       "        vertical-align: top;\n",
       "    }\n",
       "\n",
       "    .dataframe thead th {\n",
       "        text-align: right;\n",
       "    }\n",
       "</style>\n",
       "<table border=\"1\" class=\"dataframe\">\n",
       "  <thead>\n",
       "    <tr style=\"text-align: right;\">\n",
       "      <th></th>\n",
       "      <th>0</th>\n",
       "      <th>1</th>\n",
       "      <th>2</th>\n",
       "      <th>3</th>\n",
       "    </tr>\n",
       "  </thead>\n",
       "  <tbody>\n",
       "    <tr>\n",
       "      <th>0</th>\n",
       "      <td>plvklpgwivery.com</td>\n",
       "      <td>Domain used by Cryptolocker - Flashback DGA fo...</td>\n",
       "      <td>2018-06-23</td>\n",
       "      <td>http://osint.bambenekconsulting.com/manual/cl.txt</td>\n",
       "    </tr>\n",
       "    <tr>\n",
       "      <th>1</th>\n",
       "      <td>dnuxdhcgblsgy.net</td>\n",
       "      <td>Domain used by Cryptolocker - Flashback DGA fo...</td>\n",
       "      <td>2018-06-23</td>\n",
       "      <td>http://osint.bambenekconsulting.com/manual/cl.txt</td>\n",
       "    </tr>\n",
       "    <tr>\n",
       "      <th>2</th>\n",
       "      <td>qjlullhfkiowp.biz</td>\n",
       "      <td>Domain used by Cryptolocker - Flashback DGA fo...</td>\n",
       "      <td>2018-06-23</td>\n",
       "      <td>http://osint.bambenekconsulting.com/manual/cl.txt</td>\n",
       "    </tr>\n",
       "    <tr>\n",
       "      <th>3</th>\n",
       "      <td>elkidddodxdly.ru</td>\n",
       "      <td>Domain used by Cryptolocker - Flashback DGA fo...</td>\n",
       "      <td>2018-06-23</td>\n",
       "      <td>http://osint.bambenekconsulting.com/manual/cl.txt</td>\n",
       "    </tr>\n",
       "    <tr>\n",
       "      <th>4</th>\n",
       "      <td>rnbfwuprlwfor.org</td>\n",
       "      <td>Domain used by Cryptolocker - Flashback DGA fo...</td>\n",
       "      <td>2018-06-23</td>\n",
       "      <td>http://osint.bambenekconsulting.com/manual/cl.txt</td>\n",
       "    </tr>\n",
       "  </tbody>\n",
       "</table>\n",
       "</div>"
      ],
      "text/plain": [
       "                   0                                                  1  \\\n",
       "0  plvklpgwivery.com  Domain used by Cryptolocker - Flashback DGA fo...   \n",
       "1  dnuxdhcgblsgy.net  Domain used by Cryptolocker - Flashback DGA fo...   \n",
       "2  qjlullhfkiowp.biz  Domain used by Cryptolocker - Flashback DGA fo...   \n",
       "3   elkidddodxdly.ru  Domain used by Cryptolocker - Flashback DGA fo...   \n",
       "4  rnbfwuprlwfor.org  Domain used by Cryptolocker - Flashback DGA fo...   \n",
       "\n",
       "            2                                                  3  \n",
       "0  2018-06-23  http://osint.bambenekconsulting.com/manual/cl.txt  \n",
       "1  2018-06-23  http://osint.bambenekconsulting.com/manual/cl.txt  \n",
       "2  2018-06-23  http://osint.bambenekconsulting.com/manual/cl.txt  \n",
       "3  2018-06-23  http://osint.bambenekconsulting.com/manual/cl.txt  \n",
       "4  2018-06-23  http://osint.bambenekconsulting.com/manual/cl.txt  "
      ]
     },
     "metadata": {},
     "output_type": "display_data"
    },
    {
     "data": {
      "text/plain": [
       "'Cisco feed sample: (1000000, 2)'"
      ]
     },
     "metadata": {},
     "output_type": "display_data"
    },
    {
     "data": {
      "text/html": [
       "<div>\n",
       "<style scoped>\n",
       "    .dataframe tbody tr th:only-of-type {\n",
       "        vertical-align: middle;\n",
       "    }\n",
       "\n",
       "    .dataframe tbody tr th {\n",
       "        vertical-align: top;\n",
       "    }\n",
       "\n",
       "    .dataframe thead th {\n",
       "        text-align: right;\n",
       "    }\n",
       "</style>\n",
       "<table border=\"1\" class=\"dataframe\">\n",
       "  <thead>\n",
       "    <tr style=\"text-align: right;\">\n",
       "      <th></th>\n",
       "      <th>0</th>\n",
       "      <th>1</th>\n",
       "    </tr>\n",
       "  </thead>\n",
       "  <tbody>\n",
       "    <tr>\n",
       "      <th>0</th>\n",
       "      <td>1</td>\n",
       "      <td>netflix.com</td>\n",
       "    </tr>\n",
       "    <tr>\n",
       "      <th>1</th>\n",
       "      <td>2</td>\n",
       "      <td>api-global.netflix.com</td>\n",
       "    </tr>\n",
       "    <tr>\n",
       "      <th>2</th>\n",
       "      <td>3</td>\n",
       "      <td>prod.netflix.com</td>\n",
       "    </tr>\n",
       "    <tr>\n",
       "      <th>3</th>\n",
       "      <td>4</td>\n",
       "      <td>push.prod.netflix.com</td>\n",
       "    </tr>\n",
       "    <tr>\n",
       "      <th>4</th>\n",
       "      <td>5</td>\n",
       "      <td>google.com</td>\n",
       "    </tr>\n",
       "  </tbody>\n",
       "</table>\n",
       "</div>"
      ],
      "text/plain": [
       "   0                       1\n",
       "0  1             netflix.com\n",
       "1  2  api-global.netflix.com\n",
       "2  3        prod.netflix.com\n",
       "3  4   push.prod.netflix.com\n",
       "4  5              google.com"
      ]
     },
     "metadata": {},
     "output_type": "display_data"
    },
    {
     "name": "stdout",
     "output_type": "stream",
     "text": [
      "(381953, 4)\n"
     ]
    }
   ],
   "source": [
    "# display head\n",
    "def display_df(dga_df_, cisco_df_):\n",
    "    display(\"DGA feed sample: {}\".format( dga_df_.shape) )\n",
    "    display(dga_df_.head())\n",
    "    display(\"Cisco feed sample: {}\".format( cisco_df_.shape) )\n",
    "    display(cisco_df_.head())\n",
    "\n",
    "display_df(dga_df, cisco_df)\n",
    "print(dga_df.shape)"
   ]
  },
  {
   "cell_type": "code",
   "execution_count": 7,
   "metadata": {},
   "outputs": [
    {
     "data": {
      "text/plain": [
       "'DGA feed sample: (381953, 2)'"
      ]
     },
     "metadata": {},
     "output_type": "display_data"
    },
    {
     "data": {
      "text/html": [
       "<div>\n",
       "<style scoped>\n",
       "    .dataframe tbody tr th:only-of-type {\n",
       "        vertical-align: middle;\n",
       "    }\n",
       "\n",
       "    .dataframe tbody tr th {\n",
       "        vertical-align: top;\n",
       "    }\n",
       "\n",
       "    .dataframe thead th {\n",
       "        text-align: right;\n",
       "    }\n",
       "</style>\n",
       "<table border=\"1\" class=\"dataframe\">\n",
       "  <thead>\n",
       "    <tr style=\"text-align: right;\">\n",
       "      <th></th>\n",
       "      <th>domain</th>\n",
       "      <th>dga</th>\n",
       "    </tr>\n",
       "  </thead>\n",
       "  <tbody>\n",
       "    <tr>\n",
       "      <th>0</th>\n",
       "      <td>plvklpgwivery.com</td>\n",
       "      <td>1</td>\n",
       "    </tr>\n",
       "    <tr>\n",
       "      <th>1</th>\n",
       "      <td>dnuxdhcgblsgy.net</td>\n",
       "      <td>1</td>\n",
       "    </tr>\n",
       "    <tr>\n",
       "      <th>2</th>\n",
       "      <td>qjlullhfkiowp.biz</td>\n",
       "      <td>1</td>\n",
       "    </tr>\n",
       "    <tr>\n",
       "      <th>3</th>\n",
       "      <td>elkidddodxdly.ru</td>\n",
       "      <td>1</td>\n",
       "    </tr>\n",
       "    <tr>\n",
       "      <th>4</th>\n",
       "      <td>rnbfwuprlwfor.org</td>\n",
       "      <td>1</td>\n",
       "    </tr>\n",
       "  </tbody>\n",
       "</table>\n",
       "</div>"
      ],
      "text/plain": [
       "              domain  dga\n",
       "0  plvklpgwivery.com    1\n",
       "1  dnuxdhcgblsgy.net    1\n",
       "2  qjlullhfkiowp.biz    1\n",
       "3   elkidddodxdly.ru    1\n",
       "4  rnbfwuprlwfor.org    1"
      ]
     },
     "metadata": {},
     "output_type": "display_data"
    },
    {
     "data": {
      "text/plain": [
       "'Cisco feed sample: (1000000, 2)'"
      ]
     },
     "metadata": {},
     "output_type": "display_data"
    },
    {
     "data": {
      "text/html": [
       "<div>\n",
       "<style scoped>\n",
       "    .dataframe tbody tr th:only-of-type {\n",
       "        vertical-align: middle;\n",
       "    }\n",
       "\n",
       "    .dataframe tbody tr th {\n",
       "        vertical-align: top;\n",
       "    }\n",
       "\n",
       "    .dataframe thead th {\n",
       "        text-align: right;\n",
       "    }\n",
       "</style>\n",
       "<table border=\"1\" class=\"dataframe\">\n",
       "  <thead>\n",
       "    <tr style=\"text-align: right;\">\n",
       "      <th></th>\n",
       "      <th>domain</th>\n",
       "      <th>dga</th>\n",
       "    </tr>\n",
       "  </thead>\n",
       "  <tbody>\n",
       "    <tr>\n",
       "      <th>0</th>\n",
       "      <td>netflix.com</td>\n",
       "      <td>0</td>\n",
       "    </tr>\n",
       "    <tr>\n",
       "      <th>1</th>\n",
       "      <td>api-global.netflix.com</td>\n",
       "      <td>0</td>\n",
       "    </tr>\n",
       "    <tr>\n",
       "      <th>2</th>\n",
       "      <td>prod.netflix.com</td>\n",
       "      <td>0</td>\n",
       "    </tr>\n",
       "    <tr>\n",
       "      <th>3</th>\n",
       "      <td>push.prod.netflix.com</td>\n",
       "      <td>0</td>\n",
       "    </tr>\n",
       "    <tr>\n",
       "      <th>4</th>\n",
       "      <td>google.com</td>\n",
       "      <td>0</td>\n",
       "    </tr>\n",
       "  </tbody>\n",
       "</table>\n",
       "</div>"
      ],
      "text/plain": [
       "                   domain  dga\n",
       "0             netflix.com    0\n",
       "1  api-global.netflix.com    0\n",
       "2        prod.netflix.com    0\n",
       "3   push.prod.netflix.com    0\n",
       "4              google.com    0"
      ]
     },
     "metadata": {},
     "output_type": "display_data"
    },
    {
     "data": {
      "text/html": [
       "<div>\n",
       "<style scoped>\n",
       "    .dataframe tbody tr th:only-of-type {\n",
       "        vertical-align: middle;\n",
       "    }\n",
       "\n",
       "    .dataframe tbody tr th {\n",
       "        vertical-align: top;\n",
       "    }\n",
       "\n",
       "    .dataframe thead th {\n",
       "        text-align: right;\n",
       "    }\n",
       "</style>\n",
       "<table border=\"1\" class=\"dataframe\">\n",
       "  <thead>\n",
       "    <tr style=\"text-align: right;\">\n",
       "      <th></th>\n",
       "      <th>domain</th>\n",
       "      <th>dga</th>\n",
       "      <th>scoreMetrics</th>\n",
       "    </tr>\n",
       "  </thead>\n",
       "  <tbody>\n",
       "    <tr>\n",
       "      <th>0</th>\n",
       "      <td>netflix.com</td>\n",
       "      <td>0</td>\n",
       "      <td>None</td>\n",
       "    </tr>\n",
       "    <tr>\n",
       "      <th>1</th>\n",
       "      <td>api-global.netflix.com</td>\n",
       "      <td>0</td>\n",
       "      <td>None</td>\n",
       "    </tr>\n",
       "    <tr>\n",
       "      <th>2</th>\n",
       "      <td>prod.netflix.com</td>\n",
       "      <td>0</td>\n",
       "      <td>None</td>\n",
       "    </tr>\n",
       "    <tr>\n",
       "      <th>3</th>\n",
       "      <td>push.prod.netflix.com</td>\n",
       "      <td>0</td>\n",
       "      <td>None</td>\n",
       "    </tr>\n",
       "    <tr>\n",
       "      <th>4</th>\n",
       "      <td>google.com</td>\n",
       "      <td>0</td>\n",
       "      <td>None</td>\n",
       "    </tr>\n",
       "  </tbody>\n",
       "</table>\n",
       "</div>"
      ],
      "text/plain": [
       "                   domain  dga scoreMetrics\n",
       "0             netflix.com    0         None\n",
       "1  api-global.netflix.com    0         None\n",
       "2        prod.netflix.com    0         None\n",
       "3   push.prod.netflix.com    0         None\n",
       "4              google.com    0         None"
      ]
     },
     "execution_count": 7,
     "metadata": {},
     "output_type": "execute_result"
    }
   ],
   "source": [
    "# remove unused columns, add otuput label 'dga'\n",
    "dga_df_slim =   dga_df.drop(columns=range(1,dga_df.shape[1]), inplace=False)\n",
    "dga_df_slim.columns = ['domain']\n",
    "cisco_df_slim = cisco_df.drop(columns=[0], inplace=False)\n",
    "cisco_df_slim.columns = ['domain']\n",
    "dga_df_slim['dga'] = 1\n",
    "cisco_df_slim['dga'] = 0\n",
    "\n",
    "display_df(dga_df_slim, cisco_df_slim)\n",
    "unified_df = pd.concat([cisco_df_slim, dga_df_slim], ignore_index=True)\n",
    "unified_df['scoreMetrics'] = None\n",
    "unified_df.head()"
   ]
  },
  {
   "cell_type": "code",
   "execution_count": 8,
   "metadata": {},
   "outputs": [],
   "source": [
    "# Functions to score the text - domain, or lables, and its segments\n",
    "\n",
    "NA_score = 200.0                                   # penalty score of a text not in vocabulary\n",
    "BIGRAM_score = 100.0                                # penalty score for bigram\n",
    "\n",
    "all_alphas = set(string.ascii_lowercase)\n",
    "valid_unigrams = set([])\n",
    "#valid_unigrams = set(['a', 'i', 'u'])\n",
    "invalid_unigrams = all_alphas - valid_unigrams\n",
    "\n",
    "def scoreTextSegment(iStart, iStop, text):\n",
    "    \"\"\" returns the score of a segment of text agaist the word frequency\n",
    "    \n",
    "    Args:\n",
    "        iStart: starting index within the input text\n",
    "        iStop:  starting index within the input text\n",
    "        text:   input text\n",
    "    Returns:\n",
    "        log probability score of the text segment\n",
    "    \"\"\"\n",
    "    global invalid_unigrams\n",
    "    global NA_score\n",
    "    \n",
    "    if text[iStart:iStop] in invalid_unigrams:\n",
    "        return NA_score\n",
    "    elif iStop-iStart == 2:\n",
    "        return BIGRAM_score\n",
    "    else:\n",
    "        act_freq = zipf_frequency(text[iStart:iStop], 'en', 'small')\n",
    "        if act_freq == 0.0:\n",
    "            return NA_score\n",
    "        else:\n",
    "            return act_freq\n",
    "\n",
    "def scoreBestSegments(input_text, verbosity=0, scoreFn=scoreTextSegment):\n",
    "    \"\"\"optionally split the text to determine cutpoints for highest scoring\n",
    "\n",
    "    Args:\n",
    "      input_text: input text to segment\n",
    "      scoreFn:    a function that accepts \"start\" and \"stop\" segments of the text\n",
    "                  and gives back the score of the segment extending from [start, stop)\n",
    "    \n",
    "    Returns:\n",
    "      The best score determined from segmentation.\n",
    "    \"\"\"\n",
    "    n = len(input_text)\n",
    "    leftScore = []\n",
    "    distinct_segs = set()\n",
    "\n",
    "    for k in range(n + 1):\n",
    "        leftScore.append((scoreFn(0, k, input_text), []))\n",
    "        last_idx = 0\n",
    "        \n",
    "        for j in range(k):\n",
    "            \n",
    "            newScore = leftScore[j][0] + scoreFn(j, k, input_text)\n",
    "            if( newScore <  leftScore[k][0] ):\n",
    "                \n",
    "                if verbosity >= 4:\n",
    "                    print(\"For K ={:2d} found better split at: {:2d}, Old : {:10.2f} New =  {:10.2f}, {:s}\"\n",
    "                          .format(k,j, leftScore[k][0], newScore, input_text[last_idx:j]))\n",
    "                \n",
    "                leftScore[k] = ( newScore, leftScore[j][1] + [j] )\n",
    "                last_idx = j\n",
    "        \n",
    "        if verbosity >= 4:\n",
    "            print(\"Final split for K= {:2d} = {}\\n\".format(k, leftScore[k][1]))\n",
    "    \n",
    "    last_idx = 0\n",
    "    for i in leftScore[n][1]:\n",
    "        distinct_segs.update([(input_text[last_idx:i])])\n",
    "        last_idx = i\n",
    "    distinct_segs.update([input_text[last_idx:]])\n",
    "\n",
    "    return leftScore[n][0], leftScore[n][1], distinct_segs\n",
    "\n"
   ]
  },
  {
   "cell_type": "code",
   "execution_count": 9,
   "metadata": {},
   "outputs": [],
   "source": [
    "# Printing functions\n",
    "\n",
    "def segment_and_print(inpText, verbosity=0):\n",
    "    \"\"\"Prints the segments of text\n",
    "       \n",
    "       Args:\n",
    "           text: input text to optimally segment\n",
    "        \n",
    "       Returns:\n",
    "           text segmentation output\n",
    "    \"\"\"\n",
    "    score, segment_list, dontcare = scoreBestSegments(inpText, verbosity=verbosity)\n",
    "    last_idx = 0\n",
    "    print(\"\\nSegmented text for '{}':\".format(inpText))\n",
    "    for idx in segment_list:\n",
    "        print(inpText[last_idx:int(idx)], end=' ')\n",
    "        last_idx = int(idx)\n",
    "    print(inpText[last_idx:])\n",
    "\n",
    "def print_segments(inpText, segment_list):\n",
    "    \"\"\"Prints the segments of text\n",
    "       \n",
    "       Args:\n",
    "           text: input text to optimally segment\n",
    "           segment_list: a list of boundary indices of the segments\n",
    "        \n",
    "       Returns:\n",
    "           text segmentation output\n",
    "    \"\"\"\n",
    "    last_idx = 0\n",
    "    for idx in segment_list:\n",
    "        print(inpText[last_idx:idx], end=' ')\n",
    "        last_idx = idx\n",
    "    print(inpText[last_idx:l])"
   ]
  },
  {
   "cell_type": "markdown",
   "metadata": {},
   "source": [
    "Here is a definition of a domain scoring functon.  \n",
    "**At the end, there are some raw as well as normalized metrics used for scoring.**"
   ]
  },
  {
   "cell_type": "code",
   "execution_count": 10,
   "metadata": {},
   "outputs": [],
   "source": [
    "# Wrapper function for scoring domain \n",
    "\n",
    "def scoreDomain(inRow, verbosity=0):\n",
    "    \"\"\" Splits the domain by labels (dot separator) and\n",
    "        optimally segments each label into words based on \n",
    "        word frequency (wordfreq) corpus.\n",
    "        \n",
    "        Args:\n",
    "            inRow: input row of the domain dataframe\n",
    "        \n",
    "        Returns:\n",
    "            score: scoring of the domain\n",
    "    \"\"\"\n",
    "    thisDomain = inRow['domain']\n",
    "    num_digits = sum( char.isdigit() for char in thisDomain)\n",
    "    \n",
    "    if verbosity >= 2:\n",
    "        print(\"\\n\", \"=\"*5, thisDomain, \"=\"*5)\n",
    "    \n",
    "    \n",
    "    labels = thisDomain.lower()\n",
    "    #labels = labels.split('.')\n",
    "    labels = re.split('\\W+', labels)        # separate the domain labels\n",
    "    #labels.pop(-1)                          # drop TLD label\n",
    "    thisScore = []\n",
    "    unique_words = set()\n",
    "    for i,label in enumerate(labels):\n",
    "        iScore, iSegs, word_set = scoreBestSegments(label, verbosity)\n",
    "        thisScore.append(iScore)\n",
    "        unique_words.update(word_set)\n",
    "        if verbosity >= 2:\n",
    "            print(\"Score for label '{:30s}' = {:6.3f}, unique_words = {:d} {}\"\n",
    "                  .format(label, thisScore[i], len(word_set), word_set))\n",
    "    \n",
    "    \n",
    "    \n",
    "    return [sum(thisScore),                      # return total score for the domain\n",
    "            sum(thisScore) / len(thisDomain),    # total score normalized bu domain length\n",
    "            len(unique_words),                   # number of unique words in domain\n",
    "            len(unique_words) / len(thisDomain), # number of unique words in domain normalized by its length\n",
    "            num_digits,                          # number of digits in the domain name \n",
    "            num_digits / len(thisDomain)]        # number of digits in domain name normalized by length\n",
    "            \n",
    "            "
   ]
  },
  {
   "cell_type": "markdown",
   "metadata": {},
   "source": [
    "Here is an example of how the segmentation of a domain name looks like:  \n",
    "  \n",
    "- The scores of frequent words, or atleast that are present in the dictionary (*of the wordfreq package*), are on the low side, implying there is less penalty for such a segment.  \n",
    "- On the other hand, a segment of an infrequent word, or a jumbled bunch of characters, has a high penalty.  \n",
    "\n",
    "Scores from all such segments are then accumulated, and reported raw or normalized by one of the normalizing measures - domain character length, or total number of segments, or number of unique segments.  \n",
    "  \n",
    "The hypothesis is that overall, the DGA domains should have higher cost of segmentation than non-DGA domains, implying that they have less in common with the english vocabulary."
   ]
  },
  {
   "cell_type": "code",
   "execution_count": 11,
   "metadata": {
    "scrolled": false
   },
   "outputs": [
    {
     "name": "stdout",
     "output_type": "stream",
     "text": [
      "\n",
      "--Text segmentation--\n",
      "\n",
      "Segmented text for 'globalvaluecommerce.com':\n",
      "global value commerce .com\n",
      "\n",
      "--Domain scoring--\n",
      "\n",
      " ===== ipv4-c001-hfa001-cellcom-isp.1.oca.nflxvideo.net =====\n",
      "Score for label 'ipv4                          ' = 200.000, unique_words = 1 {'ipv4'}\n",
      "Score for label 'c001                          ' =  3.190, unique_words = 1 {'c001'}\n",
      "Score for label 'hfa001                        ' = 103.680, unique_words = 2 {'a001', 'hf'}\n",
      "Score for label 'cellcom                       ' =  8.880, unique_words = 2 {'com', 'cell'}\n",
      "Score for label 'isp                           ' =  3.270, unique_words = 1 {'isp'}\n",
      "Score for label '1                             ' =  6.020, unique_words = 1 {'1'}\n",
      "Score for label 'oca                           ' = 200.000, unique_words = 1 {'oca'}\n",
      "Score for label 'nflxvideo                     ' = 11.040, unique_words = 3 {'deo', 'nfl', 'xvi'}\n",
      "Score for label 'net                           ' =  4.750, unique_words = 1 {'net'}\n"
     ]
    },
    {
     "data": {
      "text/plain": [
       "0    [540.8299999999999, 11.267291666666665, 13, 0....\n",
       "dtype: object"
      ]
     },
     "execution_count": 11,
     "metadata": {},
     "output_type": "execute_result"
    }
   ],
   "source": [
    "# Testing segmentation code\n",
    "print(\"\\n--Text segmentation--\")\n",
    "random_domain = 'globalvaluecommerce.com'\n",
    "segment_and_print(random_domain, verbosity=1)\n",
    "\n",
    "print(\"\\n--Domain scoring--\")\n",
    "domain_name = 'ipv4-c001-hfa001-cellcom-isp.1.oca.nflxvideo.net'\n",
    "another_domain = pd.DataFrame(domain_name, index=[0], columns=['domain'])\n",
    "another_domain.apply( lambda row: scoreDomain(row, verbosity=2), axis=1 )"
   ]
  },
  {
   "cell_type": "code",
   "execution_count": 17,
   "metadata": {
    "scrolled": false
   },
   "outputs": [
    {
     "data": {
      "text/html": [
       "<div>\n",
       "<style scoped>\n",
       "    .dataframe tbody tr th:only-of-type {\n",
       "        vertical-align: middle;\n",
       "    }\n",
       "\n",
       "    .dataframe tbody tr th {\n",
       "        vertical-align: top;\n",
       "    }\n",
       "\n",
       "    .dataframe thead th {\n",
       "        text-align: right;\n",
       "    }\n",
       "</style>\n",
       "<table border=\"1\" class=\"dataframe\">\n",
       "  <thead>\n",
       "    <tr style=\"text-align: right;\">\n",
       "      <th></th>\n",
       "      <th>domain</th>\n",
       "      <th>dga</th>\n",
       "      <th>scoreMetrics</th>\n",
       "    </tr>\n",
       "  </thead>\n",
       "  <tbody>\n",
       "    <tr>\n",
       "      <th>0</th>\n",
       "      <td>netflix.com</td>\n",
       "      <td>0</td>\n",
       "      <td>None</td>\n",
       "    </tr>\n",
       "    <tr>\n",
       "      <th>1</th>\n",
       "      <td>api-global.netflix.com</td>\n",
       "      <td>0</td>\n",
       "      <td>None</td>\n",
       "    </tr>\n",
       "    <tr>\n",
       "      <th>2</th>\n",
       "      <td>prod.netflix.com</td>\n",
       "      <td>0</td>\n",
       "      <td>None</td>\n",
       "    </tr>\n",
       "    <tr>\n",
       "      <th>3</th>\n",
       "      <td>push.prod.netflix.com</td>\n",
       "      <td>0</td>\n",
       "      <td>None</td>\n",
       "    </tr>\n",
       "    <tr>\n",
       "      <th>4</th>\n",
       "      <td>google.com</td>\n",
       "      <td>0</td>\n",
       "      <td>None</td>\n",
       "    </tr>\n",
       "  </tbody>\n",
       "</table>\n",
       "</div>"
      ],
      "text/plain": [
       "                   domain  dga scoreMetrics\n",
       "0             netflix.com    0         None\n",
       "1  api-global.netflix.com    0         None\n",
       "2        prod.netflix.com    0         None\n",
       "3   push.prod.netflix.com    0         None\n",
       "4              google.com    0         None"
      ]
     },
     "metadata": {},
     "output_type": "display_data"
    },
    {
     "name": "stdout",
     "output_type": "stream",
     "text": [
      "After scoring:\n",
      "\n"
     ]
    },
    {
     "data": {
      "text/html": [
       "<div>\n",
       "<style scoped>\n",
       "    .dataframe tbody tr th:only-of-type {\n",
       "        vertical-align: middle;\n",
       "    }\n",
       "\n",
       "    .dataframe tbody tr th {\n",
       "        vertical-align: top;\n",
       "    }\n",
       "\n",
       "    .dataframe thead th {\n",
       "        text-align: right;\n",
       "    }\n",
       "</style>\n",
       "<table border=\"1\" class=\"dataframe\">\n",
       "  <thead>\n",
       "    <tr style=\"text-align: right;\">\n",
       "      <th></th>\n",
       "      <th>domain</th>\n",
       "      <th>dga</th>\n",
       "      <th>scoreMetrics</th>\n",
       "    </tr>\n",
       "  </thead>\n",
       "  <tbody>\n",
       "    <tr>\n",
       "      <th>0</th>\n",
       "      <td>netflix.com</td>\n",
       "      <td>0</td>\n",
       "      <td>[8.12, 0.7381818181818182, 2, 0.18181818181818...</td>\n",
       "    </tr>\n",
       "    <tr>\n",
       "      <th>1</th>\n",
       "      <td>api-global.netflix.com</td>\n",
       "      <td>0</td>\n",
       "      <td>[16.81, 0.764090909090909, 4, 0.18181818181818...</td>\n",
       "    </tr>\n",
       "    <tr>\n",
       "      <th>2</th>\n",
       "      <td>prod.netflix.com</td>\n",
       "      <td>0</td>\n",
       "      <td>[11.239999999999998, 0.7024999999999999, 3, 0....</td>\n",
       "    </tr>\n",
       "    <tr>\n",
       "      <th>3</th>\n",
       "      <td>push.prod.netflix.com</td>\n",
       "      <td>0</td>\n",
       "      <td>[16.0, 0.7619047619047619, 4, 0.19047619047619...</td>\n",
       "    </tr>\n",
       "    <tr>\n",
       "      <th>4</th>\n",
       "      <td>google.com</td>\n",
       "      <td>0</td>\n",
       "      <td>[8.829999999999998, 0.8829999999999998, 2, 0.2...</td>\n",
       "    </tr>\n",
       "  </tbody>\n",
       "</table>\n",
       "</div>"
      ],
      "text/plain": [
       "                   domain  dga  \\\n",
       "0             netflix.com    0   \n",
       "1  api-global.netflix.com    0   \n",
       "2        prod.netflix.com    0   \n",
       "3   push.prod.netflix.com    0   \n",
       "4              google.com    0   \n",
       "\n",
       "                                        scoreMetrics  \n",
       "0  [8.12, 0.7381818181818182, 2, 0.18181818181818...  \n",
       "1  [16.81, 0.764090909090909, 4, 0.18181818181818...  \n",
       "2  [11.239999999999998, 0.7024999999999999, 3, 0....  \n",
       "3  [16.0, 0.7619047619047619, 4, 0.19047619047619...  \n",
       "4  [8.829999999999998, 0.8829999999999998, 2, 0.2...  "
      ]
     },
     "metadata": {},
     "output_type": "display_data"
    }
   ],
   "source": [
    "debug_verbose = 1\n",
    "samples = 20000\n",
    "\n",
    "sampled_df = unified_df\n",
    "#sampled_df = unified_df.sample(n=samples, random_state=3)\n",
    "\n",
    "if debug_verbose:\n",
    "    display(sampled_df.head(5))\n",
    "\n",
    "sampled_df.scoreMetrics = sampled_df.apply( lambda row: scoreDomain(row, verbosity=debug_verbose), axis=1 )\n",
    "\n",
    "if debug_verbose:\n",
    "    print(\"After scoring:\\n\")\n",
    "    display(sampled_df.head(5))"
   ]
  },
  {
   "cell_type": "code",
   "execution_count": 18,
   "metadata": {},
   "outputs": [
    {
     "data": {
      "text/plain": [
       "1000000    [204.06, 12.003529411764706, 2, 0.117647058823...\n",
       "1000001    [204.75, 12.044117647058824, 2, 0.117647058823...\n",
       "1000002    [203.12, 11.948235294117648, 2, 0.117647058823...\n",
       "1000003                     [300.0, 18.75, 2, 0.125, 0, 0.0]\n",
       "1000004    [203.29, 11.958235294117646, 2, 0.117647058823...\n",
       "Name: scoreMetrics, dtype: object"
      ]
     },
     "metadata": {},
     "output_type": "display_data"
    },
    {
     "data": {
      "text/plain": [
       "0    [8.12, 0.7381818181818182, 2, 0.18181818181818...\n",
       "1    [16.81, 0.764090909090909, 4, 0.18181818181818...\n",
       "2    [11.239999999999998, 0.7024999999999999, 3, 0....\n",
       "3    [16.0, 0.7619047619047619, 4, 0.19047619047619...\n",
       "4    [8.829999999999998, 0.8829999999999998, 2, 0.2...\n",
       "Name: scoreMetrics, dtype: object"
      ]
     },
     "metadata": {},
     "output_type": "display_data"
    }
   ],
   "source": [
    "# group score metrics by dga or non-dga \n",
    "sc_dga = sampled_df[sampled_df['dga']==1]['scoreMetrics']\n",
    "display(sc_dga.head())\n",
    "sc_nondga = sampled_df[sampled_df['dga']==0]['scoreMetrics']\n",
    "display(sc_nondga.head())"
   ]
  },
  {
   "cell_type": "code",
   "execution_count": 19,
   "metadata": {},
   "outputs": [],
   "source": [
    "def retrieve_score( dframe, scoreIdx):\n",
    "    return list(dframe.apply( lambda x: x[scoreIdx]))"
   ]
  },
  {
   "cell_type": "code",
   "execution_count": 42,
   "metadata": {},
   "outputs": [],
   "source": [
    "def plot_hists_v2(dga_df, nondga_df, scoreType=0, scoreText='', filePrefix='EDA_', \n",
    "                  logScale='no', savefig='no', transprnt=False, colorTone='black', title=''):\n",
    "    \n",
    "    ''' dga_dg:      DGA dataframe\n",
    "        nondga_df:   nonDGA dataframe\n",
    "        scoreType:   integer representing one of the scores defined in scoreDomain()\n",
    "        scoreText:   x-axis label\n",
    "        filePrefix:  prefix to append to plots saved to file\n",
    "        logScale:    'yes', 'no', or 'both' to use logarithmic scale for histogram frequency\n",
    "        savefig:     figure saving to .png 'yes' to save, 'no' not save or 'only' save without displaying\n",
    "        trsnprnt:    boolean for saved figure transparency\n",
    "        textColor:   boolean for white text on a black background (skips inline plot)\n",
    "        title:       chart title\n",
    "    '''\n",
    "\n",
    "    if colorTone == 'white':\n",
    "        legend_facecolor = 'grey'\n",
    "    else:\n",
    "        legend_facecolor = 'inherit'\n",
    "    params = {\"ytick.color\"       : colorTone,\n",
    "              \"xtick.color\"       : colorTone,\n",
    "              \"axes.labelcolor\"   : colorTone,\n",
    "              \"axes.edgecolor\"    : colorTone,\n",
    "              \"legend.edgecolor\"  : colorTone,\n",
    "              \"legend.facecolor\"  : legend_facecolor,\n",
    "              \"text.color\"        : colorTone,\n",
    "              \"grid.color\"        : colorTone\n",
    "             }\n",
    "    plt.rcParams.update(params)\n",
    "    \n",
    "    dga_scores = retrieve_score(dga_df, scoreType)\n",
    "    nondga_scores = retrieve_score(nondga_df, scoreType)\n",
    "    \n",
    "    logFlag = None\n",
    "    if logScale == 'log':\n",
    "        logFlag = True\n",
    "    elif logScale == 'linear':\n",
    "        logFlag = False\n",
    "    \n",
    "    if logScale != 'both':\n",
    "        plt.figure(figsize=(12,6))\n",
    "        \n",
    "        plt.hist([dga_scores, nondga_scores], bins=20, color=['#eabe1b', '#4485f4'],\n",
    "             log=logFlag, label = ['DGA domains (bad)', 'non-DGA domains (good)'],\n",
    "             histtype='bar')\n",
    "        plt.xlabel(scoreText)\n",
    "        plt.ylabel(\"Frequency - \" + logScale)\n",
    "        plt.legend()\n",
    "        plt.grid(True)\n",
    "        plt.title(title)\n",
    "    \n",
    "    elif logScale == 'both':\n",
    "        plt.figure(figsize=(16,6))\n",
    "        \n",
    "        plt.subplot(1, 2, 1)\n",
    "        logScale = 'linear'\n",
    "        plt.hist([dga_scores, nondga_scores], bins=20, color=['#eabe1b', '#4485f4'],\n",
    "             log=False, label = ['DGA domains (bad)', 'non-DGA domains (good)'],\n",
    "             histtype='bar')\n",
    "        plt.xlabel(scoreText)\n",
    "        plt.ylabel(\"Frequency - \" + logScale)\n",
    "        plt.legend()\n",
    "        plt.grid(True)\n",
    "        \n",
    "        plt.subplot(1, 2, 2)\n",
    "        logScale = 'log'\n",
    "        plt.hist([dga_scores, nondga_scores], bins=20, color=['#eabe1b', '#4485f4'],\n",
    "             log=True, label = ['DGA domains (bad)', 'non-DGA domains (good)'],\n",
    "             histtype='bar')\n",
    "        plt.xlabel(scoreText)\n",
    "        plt.ylabel(\"Frequency - \" + logScale)\n",
    "        plt.legend()\n",
    "        plt.grid(True)\n",
    "        \n",
    "        plt.suptitle(title)\n",
    "        \n",
    "    else:\n",
    "        raise ValueError(\"Invlalid argument for logScale. Can only be 'yes', 'no' or 'both' \")\n",
    "    \n",
    "    #plt.xticks(range(0, 500))\n",
    "    #plt.yticks(range(1, 2000))\n",
    "\n",
    "    if type(savefig) != str:\n",
    "        raise ValueError(\"Invalid type passed. Must be string.\")    \n",
    "    _savefig = savefig.lower()\n",
    "    \n",
    "    if _savefig == 'yes':\n",
    "        plt.savefig(path_plots + '\\\\' + filePrefix + str(scoreText).\n",
    "                    replace(' ', '_') + '.png', dpi=500, transparent=transprnt)\n",
    "        plt.show()\n",
    "    elif _savefig == 'no':\n",
    "        plt.show()\n",
    "    elif _savefig == 'only':\n",
    "        plt.savefig(path_plots + '\\\\' + (filePrefix + str(scoreText).\n",
    "                    replace(' ', '_')).lower() + '.png', dpi=300, transparent=transprnt)\n",
    "    plt.close()     # required to flush out plot buffer"
   ]
  },
  {
   "cell_type": "code",
   "execution_count": 21,
   "metadata": {},
   "outputs": [],
   "source": [
    "# function to generate plots\n",
    "\n",
    "plots_dict = dict()\n",
    "# x-axis labels\n",
    "plots_dict[0] = ['Raw probability score']\n",
    "plots_dict[1] = ['Normalized probability score']\n",
    "plots_dict[2] = ['Distinct words']\n",
    "plots_dict[3] = ['Normalized number of distinct words']\n",
    "plots_dict[4] = ['Number of digits count']\n",
    "plots_dict[5] = ['Normalized normalized number of digits count']\n",
    "\n",
    "# chart title\n",
    "chart_prefix = 'Scoring DGA/non-DGA based on: '\n",
    "plots_dict[0].append(chart_prefix + 'cost of word segmentation')\n",
    "plots_dict[1].append(chart_prefix + 'cost of word segmentation, normalized by domain length')\n",
    "plots_dict[2].append(chart_prefix + 'number of distinct word segments')\n",
    "plots_dict[3].append(chart_prefix + 'number of distinct words, normalized by domain length')\n",
    "plots_dict[4].append(chart_prefix + 'number of digits count')\n",
    "plots_dict[5].append(chart_prefix + 'number of digit count, normalized by domain length')\n",
    "\n",
    "def process_plots(df_DGA, df_nonDGA, _logarith, choices, _fileName,\n",
    "                  _saveplt, _trnspnt, _color, pltDict=plots_dict):\n",
    "    \n",
    "    if type(choices) == list:\n",
    "        idxs = choices\n",
    "    elif type(choices) == str and choices == 'all':\n",
    "        idxs = range(len(plots_dict))\n",
    "    else:\n",
    "        raise ValueError(\"Invalid choices passed. Can either be a list of indices or 'all'.\")\n",
    "\n",
    "    for i in idxs:\n",
    "        plot_hists_v2(df_DGA, df_nonDGA, i, pltDict[i][0], _fileName, \n",
    "                      _logarith, _saveplt, _trnspnt, _color, pltDict[i][1])"
   ]
  },
  {
   "cell_type": "code",
   "execution_count": 43,
   "metadata": {
    "scrolled": false
   },
   "outputs": [
    {
     "data": {
      "image/png": "[encoded data removed]",
      "text/plain": [
       "<Figure size 1152x432 with 2 Axes>"
      ]
     },
     "metadata": {},
     "output_type": "display_data"
    },
    {
     "data": {
      "image/png": "[encoded data removed]",
      "text/plain": [
       "<Figure size 1152x432 with 2 Axes>"
      ]
     },
     "metadata": {},
     "output_type": "display_data"
    },
    {
     "data": {
      "image/png": "[encoded data removed]",
      "text/plain": [
       "<Figure size 1152x432 with 2 Axes>"
      ]
     },
     "metadata": {},
     "output_type": "display_data"
    },
    {
     "data": {
      "image/png": "[encoded data removed]",
      "text/plain": [
       "<Figure size 1152x432 with 2 Axes>"
      ]
     },
     "metadata": {},
     "output_type": "display_data"
    },
    {
     "data": {
      "image/png": "[encoded data removed]",
      "text/plain": [
       "<Figure size 1152x432 with 2 Axes>"
      ]
     },
     "metadata": {},
     "output_type": "display_data"
    },
    {
     "data": {
      "image/png": "[encoded data removed]",
      "text/plain": [
       "<Figure size 1152x432 with 2 Axes>"
      ]
     },
     "metadata": {},
     "output_type": "display_data"
    }
   ],
   "source": [
    "# display plots - linear and log scale side by side)\n",
    "\n",
    "fileName = 'EDA_p2_SBS_'     # both plots side by side (SBS)\n",
    "logarith = 'both'            # plot log and linear, both\n",
    "saveplt  = 'yes'\n",
    "transpnt = False\n",
    "shade    = 'black'           # color to use for axes, labels, marks etc.\n",
    "chosen   = 'all'             # specify plots#s in list, or all\n",
    "\n",
    "process_plots(sc_dga, sc_nondga, logarith, chosen, fileName, saveplt, transpnt, shade)"
   ]
  },
  {
   "cell_type": "code",
   "execution_count": 44,
   "metadata": {
    "scrolled": false
   },
   "outputs": [
    {
     "name": "stdout",
     "output_type": "stream",
     "text": [
      "Plots successfully saved to disk!\n"
     ]
    }
   ],
   "source": [
    "# save transparent plots\n",
    "\n",
    "fileName = 'requex_sbs_'\n",
    "logarith = 'both'\n",
    "saveplt  = 'only'\n",
    "transpnt = True\n",
    "shade    = 'white'\n",
    "chosen   = 'all'\n",
    "\n",
    "process_plots(sc_dga, sc_nondga, logarith, chosen, fileName, saveplt, transpnt, shade)\n",
    "\n",
    "fileName = 'requex_linear_'\n",
    "logarith = 'no'\n",
    "process_plots(sc_dga, sc_nondga, logarith, chosen, fileName, saveplt, transpnt, shade)\n",
    "\n",
    "fileName = 'requex_log_'\n",
    "logarith = 'yes'\n",
    "process_plots(sc_dga, sc_nondga, logarith, chosen, fileName, saveplt, transpnt, shade)\n",
    "\n",
    "print(\"Plots successfully saved to disk!\")"
   ]
  },
  {
   "cell_type": "markdown",
   "metadata": {},
   "source": [
    "### Conclusion\n",
    "\n",
    "So far the strongest signal appears to be in the number of distinct words in the domain name, normalized by the domain length. There is atleast **an order** of difference between the two categories.\n",
    "\n",
    "The other metrics as  \n",
    "- raw/normalized scoring based on vocabulary contexts,  \n",
    "- raw count of or normalized number of digit characters  \n",
    "  \n",
    "in the domain name don't seem to offer any appreciable differentiation between the DGA and non-DGA domains."
   ]
  },
  {
   "cell_type": "code",
   "execution_count": null,
   "metadata": {},
   "outputs": [],
   "source": []
  }
 ],
 "metadata": {
  "kernelspec": {
   "display_name": "Python 3",
   "language": "python",
   "name": "python3"
  },
  "language_info": {
   "codemirror_mode": {
    "name": "ipython",
    "version": 3
   },
   "file_extension": ".py",
   "mimetype": "text/x-python",
   "name": "python",
   "nbconvert_exporter": "python",
   "pygments_lexer": "ipython3",
   "version": "3.6.3"
  }
 },
 "nbformat": 4,
 "nbformat_minor": 2
}
