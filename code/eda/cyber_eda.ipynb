{
 "cells": [
  {
   "cell_type": "code",
   "execution_count": 143,
   "metadata": {},
   "outputs": [],
   "source": [
    "import dns.resolver\n",
    "import pandas as pd\n",
    "from collections import Counter"
   ]
  },
  {
   "cell_type": "code",
   "execution_count": 125,
   "metadata": {},
   "outputs": [],
   "source": [
    "# Read in dga, skipping the preliminary lines with attribution info\n",
    "dga_df = pd.read_csv('dga-feed-high.csv', header=None, skiprows=15)"
   ]
  },
  {
   "cell_type": "code",
   "execution_count": 126,
   "metadata": {},
   "outputs": [
    {
     "data": {
      "text/html": [
       "<div>\n",
       "<style scoped>\n",
       "    .dataframe tbody tr th:only-of-type {\n",
       "        vertical-align: middle;\n",
       "    }\n",
       "\n",
       "    .dataframe tbody tr th {\n",
       "        vertical-align: top;\n",
       "    }\n",
       "\n",
       "    .dataframe thead th {\n",
       "        text-align: right;\n",
       "    }\n",
       "</style>\n",
       "<table border=\"1\" class=\"dataframe\">\n",
       "  <thead>\n",
       "    <tr style=\"text-align: right;\">\n",
       "      <th></th>\n",
       "      <th>0</th>\n",
       "      <th>1</th>\n",
       "      <th>2</th>\n",
       "      <th>3</th>\n",
       "    </tr>\n",
       "  </thead>\n",
       "  <tbody>\n",
       "    <tr>\n",
       "      <th>0</th>\n",
       "      <td>plvklpgwivery.com</td>\n",
       "      <td>Domain used by Cryptolocker - Flashback DGA fo...</td>\n",
       "      <td>2018-06-23</td>\n",
       "      <td>http://osint.bambenekconsulting.com/manual/cl.txt</td>\n",
       "    </tr>\n",
       "    <tr>\n",
       "      <th>1</th>\n",
       "      <td>dnuxdhcgblsgy.net</td>\n",
       "      <td>Domain used by Cryptolocker - Flashback DGA fo...</td>\n",
       "      <td>2018-06-23</td>\n",
       "      <td>http://osint.bambenekconsulting.com/manual/cl.txt</td>\n",
       "    </tr>\n",
       "    <tr>\n",
       "      <th>2</th>\n",
       "      <td>qjlullhfkiowp.biz</td>\n",
       "      <td>Domain used by Cryptolocker - Flashback DGA fo...</td>\n",
       "      <td>2018-06-23</td>\n",
       "      <td>http://osint.bambenekconsulting.com/manual/cl.txt</td>\n",
       "    </tr>\n",
       "    <tr>\n",
       "      <th>3</th>\n",
       "      <td>elkidddodxdly.ru</td>\n",
       "      <td>Domain used by Cryptolocker - Flashback DGA fo...</td>\n",
       "      <td>2018-06-23</td>\n",
       "      <td>http://osint.bambenekconsulting.com/manual/cl.txt</td>\n",
       "    </tr>\n",
       "    <tr>\n",
       "      <th>4</th>\n",
       "      <td>rnbfwuprlwfor.org</td>\n",
       "      <td>Domain used by Cryptolocker - Flashback DGA fo...</td>\n",
       "      <td>2018-06-23</td>\n",
       "      <td>http://osint.bambenekconsulting.com/manual/cl.txt</td>\n",
       "    </tr>\n",
       "  </tbody>\n",
       "</table>\n",
       "</div>"
      ],
      "text/plain": [
       "                   0                                                  1  \\\n",
       "0  plvklpgwivery.com  Domain used by Cryptolocker - Flashback DGA fo...   \n",
       "1  dnuxdhcgblsgy.net  Domain used by Cryptolocker - Flashback DGA fo...   \n",
       "2  qjlullhfkiowp.biz  Domain used by Cryptolocker - Flashback DGA fo...   \n",
       "3   elkidddodxdly.ru  Domain used by Cryptolocker - Flashback DGA fo...   \n",
       "4  rnbfwuprlwfor.org  Domain used by Cryptolocker - Flashback DGA fo...   \n",
       "\n",
       "            2                                                  3  \n",
       "0  2018-06-23  http://osint.bambenekconsulting.com/manual/cl.txt  \n",
       "1  2018-06-23  http://osint.bambenekconsulting.com/manual/cl.txt  \n",
       "2  2018-06-23  http://osint.bambenekconsulting.com/manual/cl.txt  \n",
       "3  2018-06-23  http://osint.bambenekconsulting.com/manual/cl.txt  \n",
       "4  2018-06-23  http://osint.bambenekconsulting.com/manual/cl.txt  "
      ]
     },
     "execution_count": 126,
     "metadata": {},
     "output_type": "execute_result"
    }
   ],
   "source": [
    "dga_df.head()"
   ]
  },
  {
   "cell_type": "code",
   "execution_count": 127,
   "metadata": {},
   "outputs": [
    {
     "data": {
      "text/html": [
       "<div>\n",
       "<style scoped>\n",
       "    .dataframe tbody tr th:only-of-type {\n",
       "        vertical-align: middle;\n",
       "    }\n",
       "\n",
       "    .dataframe tbody tr th {\n",
       "        vertical-align: top;\n",
       "    }\n",
       "\n",
       "    .dataframe thead th {\n",
       "        text-align: right;\n",
       "    }\n",
       "</style>\n",
       "<table border=\"1\" class=\"dataframe\">\n",
       "  <thead>\n",
       "    <tr style=\"text-align: right;\">\n",
       "      <th></th>\n",
       "      <th>0</th>\n",
       "    </tr>\n",
       "  </thead>\n",
       "  <tbody>\n",
       "    <tr>\n",
       "      <th>0</th>\n",
       "      <td>plvklpgwivery.com</td>\n",
       "    </tr>\n",
       "    <tr>\n",
       "      <th>1</th>\n",
       "      <td>dnuxdhcgblsgy.net</td>\n",
       "    </tr>\n",
       "    <tr>\n",
       "      <th>2</th>\n",
       "      <td>qjlullhfkiowp.biz</td>\n",
       "    </tr>\n",
       "    <tr>\n",
       "      <th>3</th>\n",
       "      <td>elkidddodxdly.ru</td>\n",
       "    </tr>\n",
       "    <tr>\n",
       "      <th>4</th>\n",
       "      <td>rnbfwuprlwfor.org</td>\n",
       "    </tr>\n",
       "  </tbody>\n",
       "</table>\n",
       "</div>"
      ],
      "text/plain": [
       "                   0\n",
       "0  plvklpgwivery.com\n",
       "1  dnuxdhcgblsgy.net\n",
       "2  qjlullhfkiowp.biz\n",
       "3   elkidddodxdly.ru\n",
       "4  rnbfwuprlwfor.org"
      ]
     },
     "execution_count": 127,
     "metadata": {},
     "output_type": "execute_result"
    }
   ],
   "source": [
    "# Keep only the first column\n",
    "dga_df.drop(dga_df.columns[[1,2,3]], axis=1, inplace=True)\n",
    "dga_df.head()"
   ]
  },
  {
   "cell_type": "code",
   "execution_count": 128,
   "metadata": {},
   "outputs": [
    {
     "data": {
      "text/html": [
       "<div>\n",
       "<style scoped>\n",
       "    .dataframe tbody tr th:only-of-type {\n",
       "        vertical-align: middle;\n",
       "    }\n",
       "\n",
       "    .dataframe tbody tr th {\n",
       "        vertical-align: top;\n",
       "    }\n",
       "\n",
       "    .dataframe thead th {\n",
       "        text-align: right;\n",
       "    }\n",
       "</style>\n",
       "<table border=\"1\" class=\"dataframe\">\n",
       "  <thead>\n",
       "    <tr style=\"text-align: right;\">\n",
       "      <th></th>\n",
       "      <th>domain_name</th>\n",
       "      <th>malicious</th>\n",
       "    </tr>\n",
       "  </thead>\n",
       "  <tbody>\n",
       "    <tr>\n",
       "      <th>0</th>\n",
       "      <td>plvklpgwivery.com</td>\n",
       "      <td>1</td>\n",
       "    </tr>\n",
       "    <tr>\n",
       "      <th>1</th>\n",
       "      <td>dnuxdhcgblsgy.net</td>\n",
       "      <td>1</td>\n",
       "    </tr>\n",
       "    <tr>\n",
       "      <th>2</th>\n",
       "      <td>qjlullhfkiowp.biz</td>\n",
       "      <td>1</td>\n",
       "    </tr>\n",
       "    <tr>\n",
       "      <th>3</th>\n",
       "      <td>elkidddodxdly.ru</td>\n",
       "      <td>1</td>\n",
       "    </tr>\n",
       "    <tr>\n",
       "      <th>4</th>\n",
       "      <td>rnbfwuprlwfor.org</td>\n",
       "      <td>1</td>\n",
       "    </tr>\n",
       "  </tbody>\n",
       "</table>\n",
       "</div>"
      ],
      "text/plain": [
       "         domain_name  malicious\n",
       "0  plvklpgwivery.com          1\n",
       "1  dnuxdhcgblsgy.net          1\n",
       "2  qjlullhfkiowp.biz          1\n",
       "3   elkidddodxdly.ru          1\n",
       "4  rnbfwuprlwfor.org          1"
      ]
     },
     "execution_count": 128,
     "metadata": {},
     "output_type": "execute_result"
    }
   ],
   "source": [
    "# Assign column name\n",
    "dga_df.columns = ['domain_name']\n",
    "# Add column to label these domains malicious\n",
    "dga_df['malicious'] = 1\n",
    "dga_df.head()"
   ]
  },
  {
   "cell_type": "code",
   "execution_count": 129,
   "metadata": {},
   "outputs": [
    {
     "data": {
      "text/html": [
       "<div>\n",
       "<style scoped>\n",
       "    .dataframe tbody tr th:only-of-type {\n",
       "        vertical-align: middle;\n",
       "    }\n",
       "\n",
       "    .dataframe tbody tr th {\n",
       "        vertical-align: top;\n",
       "    }\n",
       "\n",
       "    .dataframe thead th {\n",
       "        text-align: right;\n",
       "    }\n",
       "</style>\n",
       "<table border=\"1\" class=\"dataframe\">\n",
       "  <thead>\n",
       "    <tr style=\"text-align: right;\">\n",
       "      <th></th>\n",
       "      <th>0</th>\n",
       "      <th>1</th>\n",
       "    </tr>\n",
       "  </thead>\n",
       "  <tbody>\n",
       "    <tr>\n",
       "      <th>0</th>\n",
       "      <td>1</td>\n",
       "      <td>netflix.com</td>\n",
       "    </tr>\n",
       "    <tr>\n",
       "      <th>1</th>\n",
       "      <td>2</td>\n",
       "      <td>api-global.netflix.com</td>\n",
       "    </tr>\n",
       "    <tr>\n",
       "      <th>2</th>\n",
       "      <td>3</td>\n",
       "      <td>prod.netflix.com</td>\n",
       "    </tr>\n",
       "    <tr>\n",
       "      <th>3</th>\n",
       "      <td>4</td>\n",
       "      <td>push.prod.netflix.com</td>\n",
       "    </tr>\n",
       "    <tr>\n",
       "      <th>4</th>\n",
       "      <td>5</td>\n",
       "      <td>google.com</td>\n",
       "    </tr>\n",
       "  </tbody>\n",
       "</table>\n",
       "</div>"
      ],
      "text/plain": [
       "   0                       1\n",
       "0  1             netflix.com\n",
       "1  2  api-global.netflix.com\n",
       "2  3        prod.netflix.com\n",
       "3  4   push.prod.netflix.com\n",
       "4  5              google.com"
      ]
     },
     "execution_count": 129,
     "metadata": {},
     "output_type": "execute_result"
    }
   ],
   "source": [
    "# Read in the Cisco Umbrella dataset\n",
    "cisco_df = pd.read_csv('top-1m.csv', header=None)\n",
    "cisco_df.head()"
   ]
  },
  {
   "cell_type": "code",
   "execution_count": 130,
   "metadata": {},
   "outputs": [
    {
     "data": {
      "text/html": [
       "<div>\n",
       "<style scoped>\n",
       "    .dataframe tbody tr th:only-of-type {\n",
       "        vertical-align: middle;\n",
       "    }\n",
       "\n",
       "    .dataframe tbody tr th {\n",
       "        vertical-align: top;\n",
       "    }\n",
       "\n",
       "    .dataframe thead th {\n",
       "        text-align: right;\n",
       "    }\n",
       "</style>\n",
       "<table border=\"1\" class=\"dataframe\">\n",
       "  <thead>\n",
       "    <tr style=\"text-align: right;\">\n",
       "      <th></th>\n",
       "      <th>1</th>\n",
       "    </tr>\n",
       "  </thead>\n",
       "  <tbody>\n",
       "    <tr>\n",
       "      <th>0</th>\n",
       "      <td>netflix.com</td>\n",
       "    </tr>\n",
       "    <tr>\n",
       "      <th>1</th>\n",
       "      <td>api-global.netflix.com</td>\n",
       "    </tr>\n",
       "    <tr>\n",
       "      <th>2</th>\n",
       "      <td>prod.netflix.com</td>\n",
       "    </tr>\n",
       "    <tr>\n",
       "      <th>3</th>\n",
       "      <td>push.prod.netflix.com</td>\n",
       "    </tr>\n",
       "    <tr>\n",
       "      <th>4</th>\n",
       "      <td>google.com</td>\n",
       "    </tr>\n",
       "  </tbody>\n",
       "</table>\n",
       "</div>"
      ],
      "text/plain": [
       "                        1\n",
       "0             netflix.com\n",
       "1  api-global.netflix.com\n",
       "2        prod.netflix.com\n",
       "3   push.prod.netflix.com\n",
       "4              google.com"
      ]
     },
     "execution_count": 130,
     "metadata": {},
     "output_type": "execute_result"
    }
   ],
   "source": [
    "# Keep only the second column with the domain names\n",
    "cisco_df.drop(cisco_df.columns[[0]], axis=1, inplace=True)\n",
    "cisco_df.head()"
   ]
  },
  {
   "cell_type": "code",
   "execution_count": 131,
   "metadata": {},
   "outputs": [
    {
     "data": {
      "text/html": [
       "<div>\n",
       "<style scoped>\n",
       "    .dataframe tbody tr th:only-of-type {\n",
       "        vertical-align: middle;\n",
       "    }\n",
       "\n",
       "    .dataframe tbody tr th {\n",
       "        vertical-align: top;\n",
       "    }\n",
       "\n",
       "    .dataframe thead th {\n",
       "        text-align: right;\n",
       "    }\n",
       "</style>\n",
       "<table border=\"1\" class=\"dataframe\">\n",
       "  <thead>\n",
       "    <tr style=\"text-align: right;\">\n",
       "      <th></th>\n",
       "      <th>domain_name</th>\n",
       "      <th>malicious</th>\n",
       "    </tr>\n",
       "  </thead>\n",
       "  <tbody>\n",
       "    <tr>\n",
       "      <th>0</th>\n",
       "      <td>netflix.com</td>\n",
       "      <td>0</td>\n",
       "    </tr>\n",
       "    <tr>\n",
       "      <th>1</th>\n",
       "      <td>api-global.netflix.com</td>\n",
       "      <td>0</td>\n",
       "    </tr>\n",
       "    <tr>\n",
       "      <th>2</th>\n",
       "      <td>prod.netflix.com</td>\n",
       "      <td>0</td>\n",
       "    </tr>\n",
       "    <tr>\n",
       "      <th>3</th>\n",
       "      <td>push.prod.netflix.com</td>\n",
       "      <td>0</td>\n",
       "    </tr>\n",
       "    <tr>\n",
       "      <th>4</th>\n",
       "      <td>google.com</td>\n",
       "      <td>0</td>\n",
       "    </tr>\n",
       "  </tbody>\n",
       "</table>\n",
       "</div>"
      ],
      "text/plain": [
       "              domain_name  malicious\n",
       "0             netflix.com          0\n",
       "1  api-global.netflix.com          0\n",
       "2        prod.netflix.com          0\n",
       "3   push.prod.netflix.com          0\n",
       "4              google.com          0"
      ]
     },
     "execution_count": 131,
     "metadata": {},
     "output_type": "execute_result"
    }
   ],
   "source": [
    "# Assign column name\n",
    "cisco_df.columns = ['domain_name']\n",
    "# Add column to label these domains as not malicious\n",
    "cisco_df['malicious'] = 0\n",
    "cisco_df.head()"
   ]
  },
  {
   "cell_type": "code",
   "execution_count": 132,
   "metadata": {},
   "outputs": [
    {
     "data": {
      "text/html": [
       "<div>\n",
       "<style scoped>\n",
       "    .dataframe tbody tr th:only-of-type {\n",
       "        vertical-align: middle;\n",
       "    }\n",
       "\n",
       "    .dataframe tbody tr th {\n",
       "        vertical-align: top;\n",
       "    }\n",
       "\n",
       "    .dataframe thead th {\n",
       "        text-align: right;\n",
       "    }\n",
       "</style>\n",
       "<table border=\"1\" class=\"dataframe\">\n",
       "  <thead>\n",
       "    <tr style=\"text-align: right;\">\n",
       "      <th></th>\n",
       "      <th>domain_name</th>\n",
       "      <th>malicious</th>\n",
       "    </tr>\n",
       "  </thead>\n",
       "  <tbody>\n",
       "    <tr>\n",
       "      <th>0</th>\n",
       "      <td>netflix.com</td>\n",
       "      <td>0</td>\n",
       "    </tr>\n",
       "    <tr>\n",
       "      <th>1</th>\n",
       "      <td>api-global.netflix.com</td>\n",
       "      <td>0</td>\n",
       "    </tr>\n",
       "    <tr>\n",
       "      <th>2</th>\n",
       "      <td>prod.netflix.com</td>\n",
       "      <td>0</td>\n",
       "    </tr>\n",
       "    <tr>\n",
       "      <th>3</th>\n",
       "      <td>push.prod.netflix.com</td>\n",
       "      <td>0</td>\n",
       "    </tr>\n",
       "    <tr>\n",
       "      <th>4</th>\n",
       "      <td>google.com</td>\n",
       "      <td>0</td>\n",
       "    </tr>\n",
       "  </tbody>\n",
       "</table>\n",
       "</div>"
      ],
      "text/plain": [
       "              domain_name  malicious\n",
       "0             netflix.com          0\n",
       "1  api-global.netflix.com          0\n",
       "2        prod.netflix.com          0\n",
       "3   push.prod.netflix.com          0\n",
       "4              google.com          0"
      ]
     },
     "execution_count": 132,
     "metadata": {},
     "output_type": "execute_result"
    }
   ],
   "source": [
    "# Combine the two sets\n",
    "combined = pd.concat([cisco_df, dga_df], ignore_index=True)\n",
    "combined.head()"
   ]
  },
  {
   "cell_type": "code",
   "execution_count": 133,
   "metadata": {},
   "outputs": [
    {
     "data": {
      "text/plain": [
       "<matplotlib.axes._subplots.AxesSubplot at 0x20fc34bafd0>"
      ]
     },
     "execution_count": 133,
     "metadata": {},
     "output_type": "execute_result"
    },
    {
     "data": {
      "image/png": "[encoded data removed]",
      "text/plain": [
       "<Figure size 864x576 with 1 Axes>"
      ]
     },
     "metadata": {},
     "output_type": "display_data"
    }
   ],
   "source": [
    "# Calculate and chart character frequencies for the dga domain names\n",
    "letter_counts = Counter(dga_df['domain_name'].str.cat())\n",
    "df = pd.DataFrame.from_dict(letter_counts, orient='index')\n",
    "df.sort_index(axis=0,ascending=False).plot(kind='barh', figsize=[12,8])"
   ]
  },
  {
   "cell_type": "code",
   "execution_count": 134,
   "metadata": {},
   "outputs": [
    {
     "data": {
      "text/plain": [
       "<matplotlib.axes._subplots.AxesSubplot at 0x20fb8405978>"
      ]
     },
     "execution_count": 134,
     "metadata": {},
     "output_type": "execute_result"
    },
    {
     "data": {
      "image/png": "[encoded data removed]",
      "text/plain": [
       "<Figure size 864x576 with 1 Axes>"
      ]
     },
     "metadata": {},
     "output_type": "display_data"
    }
   ],
   "source": [
    "# Calculate and chart character frequencies for the Cisco domain names\n",
    "letter_counts = Counter(cisco_df['domain_name'].str.cat())\n",
    "df = pd.DataFrame.from_dict(letter_counts, orient='index')\n",
    "df.sort_index(axis=0,ascending=False).plot(kind='barh', figsize=[12,8])"
   ]
  },
  {
   "cell_type": "code",
   "execution_count": 135,
   "metadata": {},
   "outputs": [
    {
     "data": {
      "text/plain": [
       "array([<matplotlib.axes._subplots.AxesSubplot object at 0x0000020F922481D0>,\n",
       "       <matplotlib.axes._subplots.AxesSubplot object at 0x0000020F922A0518>],\n",
       "      dtype=object)"
      ]
     },
     "execution_count": 135,
     "metadata": {},
     "output_type": "execute_result"
    },
    {
     "data": {
      "image/png": "[encoded data removed]",
      "text/plain": [
       "<Figure size 864x432 with 2 Axes>"
      ]
     },
     "metadata": {},
     "output_type": "display_data"
    }
   ],
   "source": [
    "# Add a new column with the length of the domain name\n",
    "combined['name_length'] = combined['domain_name'].str.len()\n",
    "combined.hist(column='name_length', bins=50, range=[0, 50], by='malicious', layout=[2,1], figsize=[12,6],rwidth=0.8)"
   ]
  },
  {
   "cell_type": "code",
   "execution_count": 158,
   "metadata": {},
   "outputs": [
    {
     "name": "stdout",
     "output_type": "stream",
     "text": [
      "malicious\n",
      "0    21.250845\n",
      "1    20.085306\n",
      "Name: name_length, dtype: float64\n",
      "malicious\n",
      "0    19\n",
      "1    18\n",
      "Name: name_length, dtype: int64\n"
     ]
    }
   ],
   "source": [
    "# Mean and median of domain lengths\n",
    "print (combined.groupby('malicious')['name_length'].mean())\n",
    "print (combined.groupby('malicious')['name_length'].median())"
   ]
  },
  {
   "cell_type": "code",
   "execution_count": 136,
   "metadata": {},
   "outputs": [],
   "source": [
    "# Add a new column with the heirarchy count for the domain names\n",
    "# using an intermediate step of breaking up the domain into its subdomains\n",
    "combined['hierarchy'] = combined['domain_name'].str.split('.')\n",
    "combined['hierarchy_count'] = [len(c) for c in combined['hierarchy']]"
   ]
  },
  {
   "cell_type": "code",
   "execution_count": 137,
   "metadata": {},
   "outputs": [
    {
     "data": {
      "text/html": [
       "<div>\n",
       "<style scoped>\n",
       "    .dataframe tbody tr th:only-of-type {\n",
       "        vertical-align: middle;\n",
       "    }\n",
       "\n",
       "    .dataframe tbody tr th {\n",
       "        vertical-align: top;\n",
       "    }\n",
       "\n",
       "    .dataframe thead th {\n",
       "        text-align: right;\n",
       "    }\n",
       "</style>\n",
       "<table border=\"1\" class=\"dataframe\">\n",
       "  <thead>\n",
       "    <tr style=\"text-align: right;\">\n",
       "      <th></th>\n",
       "      <th>domain_name</th>\n",
       "      <th>malicious</th>\n",
       "      <th>name_length</th>\n",
       "      <th>hierarchy</th>\n",
       "      <th>hierarchy_count</th>\n",
       "    </tr>\n",
       "  </thead>\n",
       "  <tbody>\n",
       "    <tr>\n",
       "      <th>0</th>\n",
       "      <td>netflix.com</td>\n",
       "      <td>0</td>\n",
       "      <td>11</td>\n",
       "      <td>[netflix, com]</td>\n",
       "      <td>2</td>\n",
       "    </tr>\n",
       "    <tr>\n",
       "      <th>1</th>\n",
       "      <td>api-global.netflix.com</td>\n",
       "      <td>0</td>\n",
       "      <td>22</td>\n",
       "      <td>[api-global, netflix, com]</td>\n",
       "      <td>3</td>\n",
       "    </tr>\n",
       "    <tr>\n",
       "      <th>2</th>\n",
       "      <td>prod.netflix.com</td>\n",
       "      <td>0</td>\n",
       "      <td>16</td>\n",
       "      <td>[prod, netflix, com]</td>\n",
       "      <td>3</td>\n",
       "    </tr>\n",
       "    <tr>\n",
       "      <th>3</th>\n",
       "      <td>push.prod.netflix.com</td>\n",
       "      <td>0</td>\n",
       "      <td>21</td>\n",
       "      <td>[push, prod, netflix, com]</td>\n",
       "      <td>4</td>\n",
       "    </tr>\n",
       "    <tr>\n",
       "      <th>4</th>\n",
       "      <td>google.com</td>\n",
       "      <td>0</td>\n",
       "      <td>10</td>\n",
       "      <td>[google, com]</td>\n",
       "      <td>2</td>\n",
       "    </tr>\n",
       "  </tbody>\n",
       "</table>\n",
       "</div>"
      ],
      "text/plain": [
       "              domain_name  malicious  name_length                   hierarchy  \\\n",
       "0             netflix.com          0           11              [netflix, com]   \n",
       "1  api-global.netflix.com          0           22  [api-global, netflix, com]   \n",
       "2        prod.netflix.com          0           16        [prod, netflix, com]   \n",
       "3   push.prod.netflix.com          0           21  [push, prod, netflix, com]   \n",
       "4              google.com          0           10               [google, com]   \n",
       "\n",
       "   hierarchy_count  \n",
       "0                2  \n",
       "1                3  \n",
       "2                3  \n",
       "3                4  \n",
       "4                2  "
      ]
     },
     "execution_count": 137,
     "metadata": {},
     "output_type": "execute_result"
    }
   ],
   "source": [
    "combined.head()"
   ]
  },
  {
   "cell_type": "code",
   "execution_count": 138,
   "metadata": {},
   "outputs": [
    {
     "data": {
      "text/plain": [
       "34"
      ]
     },
     "execution_count": 138,
     "metadata": {},
     "output_type": "execute_result"
    }
   ],
   "source": [
    "# what is the max hierarchy count?\n",
    "max(combined['hierarchy_count'])"
   ]
  },
  {
   "cell_type": "code",
   "execution_count": 139,
   "metadata": {},
   "outputs": [
    {
     "data": {
      "text/plain": [
       "array([<matplotlib.axes._subplots.AxesSubplot object at 0x0000021010361A90>,\n",
       "       <matplotlib.axes._subplots.AxesSubplot object at 0x000002101037AF28>],\n",
       "      dtype=object)"
      ]
     },
     "execution_count": 139,
     "metadata": {},
     "output_type": "execute_result"
    },
    {
     "data": {
      "image/png": "[encoded data removed]",
      "text/plain": [
       "<Figure size 864x432 with 2 Axes>"
      ]
     },
     "metadata": {},
     "output_type": "display_data"
    }
   ],
   "source": [
    "combined.hist(column='hierarchy_count', bins=10, by='malicious', range=[1, 10], layout=[2,1], figsize=[12,6], rwidth=0.8)"
   ]
  },
  {
   "cell_type": "code",
   "execution_count": 187,
   "metadata": {},
   "outputs": [
    {
     "data": {
      "text/html": [
       "<div>\n",
       "<style scoped>\n",
       "    .dataframe tbody tr th:only-of-type {\n",
       "        vertical-align: middle;\n",
       "    }\n",
       "\n",
       "    .dataframe tbody tr th {\n",
       "        vertical-align: top;\n",
       "    }\n",
       "\n",
       "    .dataframe thead th {\n",
       "        text-align: right;\n",
       "    }\n",
       "</style>\n",
       "<table border=\"1\" class=\"dataframe\">\n",
       "  <thead>\n",
       "    <tr style=\"text-align: right;\">\n",
       "      <th></th>\n",
       "      <th>domain_name</th>\n",
       "      <th>malicious</th>\n",
       "      <th>name_length</th>\n",
       "      <th>hierarchy</th>\n",
       "      <th>hierarchy_count</th>\n",
       "    </tr>\n",
       "  </thead>\n",
       "  <tbody>\n",
       "    <tr>\n",
       "      <th>0</th>\n",
       "      <td>netflix.com</td>\n",
       "      <td>0</td>\n",
       "      <td>11</td>\n",
       "      <td>[netflix, com]</td>\n",
       "      <td>2</td>\n",
       "    </tr>\n",
       "    <tr>\n",
       "      <th>1</th>\n",
       "      <td>api-global.netflix.com</td>\n",
       "      <td>0</td>\n",
       "      <td>22</td>\n",
       "      <td>[api-global, netflix, com]</td>\n",
       "      <td>3</td>\n",
       "    </tr>\n",
       "    <tr>\n",
       "      <th>2</th>\n",
       "      <td>prod.netflix.com</td>\n",
       "      <td>0</td>\n",
       "      <td>16</td>\n",
       "      <td>[prod, netflix, com]</td>\n",
       "      <td>3</td>\n",
       "    </tr>\n",
       "    <tr>\n",
       "      <th>3</th>\n",
       "      <td>push.prod.netflix.com</td>\n",
       "      <td>0</td>\n",
       "      <td>21</td>\n",
       "      <td>[push, prod, netflix, com]</td>\n",
       "      <td>4</td>\n",
       "    </tr>\n",
       "    <tr>\n",
       "      <th>4</th>\n",
       "      <td>google.com</td>\n",
       "      <td>0</td>\n",
       "      <td>10</td>\n",
       "      <td>[google, com]</td>\n",
       "      <td>2</td>\n",
       "    </tr>\n",
       "  </tbody>\n",
       "</table>\n",
       "</div>"
      ],
      "text/plain": [
       "              domain_name  malicious  name_length                   hierarchy  \\\n",
       "0             netflix.com          0           11              [netflix, com]   \n",
       "1  api-global.netflix.com          0           22  [api-global, netflix, com]   \n",
       "2        prod.netflix.com          0           16        [prod, netflix, com]   \n",
       "3   push.prod.netflix.com          0           21  [push, prod, netflix, com]   \n",
       "4              google.com          0           10               [google, com]   \n",
       "\n",
       "   hierarchy_count  \n",
       "0                2  \n",
       "1                3  \n",
       "2                3  \n",
       "3                4  \n",
       "4                2  "
      ]
     },
     "execution_count": 187,
     "metadata": {},
     "output_type": "execute_result"
    }
   ],
   "source": [
    "combined.head()"
   ]
  },
  {
   "cell_type": "code",
   "execution_count": 188,
   "metadata": {},
   "outputs": [],
   "source": [
    "combined.to_csv('combined.csv')"
   ]
  },
  {
   "cell_type": "code",
   "execution_count": null,
   "metadata": {},
   "outputs": [],
   "source": []
  }
 ],
 "metadata": {
  "kernelspec": {
   "display_name": "Python 3",
   "language": "python",
   "name": "python3"
  },
  "language_info": {
   "codemirror_mode": {
    "name": "ipython",
    "version": 3
   },
   "file_extension": ".py",
   "mimetype": "text/x-python",
   "name": "python",
   "nbconvert_exporter": "python",
   "pygments_lexer": "ipython3",
   "version": "3.6.6"
  }
 },
 "nbformat": 4,
 "nbformat_minor": 2
}
